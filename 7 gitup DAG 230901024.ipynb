{
 "cells": [
  {
   "cell_type": "code",
   "execution_count": 1,
   "id": "0bb6c54e",
   "metadata": {},
   "outputs": [
    {
     "name": "stdout",
     "output_type": "stream",
     "text": [
      "       A      B  C  D  E\n",
      "0    Sai    One  4  3  2\n",
      "1   Subu    Two  0  3  1\n",
      "2  Divya  Three  1  3  0\n",
      "3   Yuvi    One  0  4  0\n",
      "4  Rithi  Three  2  4  1\n",
      "5  Sangi    Two  1  4  4\n"
     ]
    }
   ],
   "source": [
    "import pandas as pd\n",
    "import numpy as np\n",
    "df=pd.DataFrame({'A':['Sai','Subu','Divya','Yuvi','Rithi','Sangi'],'B':['One','Two','Three','One','Three','Two'],\n",
    "                 'C':np.random.randint(5,size=6),'D':np.random.randint(5,size=6),'E':np.random.randint(5,size=6)})\n",
    "print(df)"
   ]
  },
  {
   "cell_type": "code",
   "execution_count": 2,
   "id": "01f4502e",
   "metadata": {},
   "outputs": [
    {
     "name": "stdout",
     "output_type": "stream",
     "text": [
      "       A      B  C  D  E\n",
      "0    Sai    One  0  1  0\n",
      "1    Poo    Two  0  2  4\n",
      "2    Sub  Three  1  1  0\n",
      "3   Yuvi    One  1  2  4\n",
      "4  Rithi  Three  1  2  3\n",
      "5  Sangu    Two  0  0  3\n",
      "6    Sai    One  4  2  0\n",
      "7    Poo    Two  2  1  4\n",
      "       A  C\n",
      "0    Poo  2\n",
      "1  Rithi  1\n",
      "2    Sai  4\n",
      "3  Sangu  0\n",
      "4    Sub  1\n",
      "5   Yuvi  1\n"
     ]
    }
   ],
   "source": [
    "import pandas as pd\n",
    "import numpy as np\n",
    "df=pd.DataFrame({'A':['Sai','Poo','Sub','Yuvi','Rithi','Sangu','Sai','Poo'],'B':['One','Two','Three','One','Three','Two','One','Two'],\n",
    "                 'C':np.random.randint(5,size=8),'D':np.random.randint(5,size=8),'E':np.random.randint(5,size=8)})\n",
    "print(df)\n",
    "df1=df.groupby(['A'],as_index=False)['C'].sum()\n",
    "print(df1)"
   ]
  },
  {
   "cell_type": "code",
   "execution_count": 7,
   "id": "cb45c046",
   "metadata": {},
   "outputs": [
    {
     "name": "stdout",
     "output_type": "stream",
     "text": [
      "       A      B  C  D  E\n",
      "0    Sai    One  2  0  1\n",
      "1    Poo    Two  2  2  2\n",
      "2    Sub  Three  1  4  2\n",
      "3   Yuvi    One  2  4  3\n",
      "4  Rithi  Three  2  2  1\n",
      "5  Sangu    Two  0  1  3\n",
      "6    Sai    One  2  4  4\n",
      "7    Poo    Two  4  2  3\n",
      "       A      B  C  D\n",
      "0    Poo    Two  6  4\n",
      "1  Rithi  Three  2  2\n",
      "2    Sai    One  4  4\n",
      "3  Sangu    Two  0  1\n",
      "4    Sub  Three  1  4\n",
      "5   Yuvi    One  2  4\n"
     ]
    }
   ],
   "source": [
    "import pandas as pd\n",
    "import numpy as np\n",
    "df=pd.DataFrame({'A':['Sai','Poo','Sub','Yuvi','Rithi','Sangu','Sai','Poo'],'B':['One','Two','Three','One','Three','Two','One','Two'],'C':np.random.randint(5,size=8),'D':np.random.randint(5,size=8),'E':np.random.randint(5,size=8)})\n",
    "print(df)\n",
    "df1=df.groupby(['A','B'],as_index=False)[['C','D']].sum()\n",
    "print(df1)"
   ]
  },
  {
   "cell_type": "code",
   "execution_count": 8,
   "id": "09df63f4",
   "metadata": {
    "scrolled": false
   },
   "outputs": [
    {
     "name": "stdout",
     "output_type": "stream",
     "text": [
      "\n",
      "Original DataFrame :\n",
      "   Catagory  Sales  Profit\n",
      "0        A    100      10\n",
      "1        B    200      15\n",
      "2        C    150      20\n",
      "3        A    150      25\n",
      "4        B    130      30\n",
      "5        C    200      15\n"
     ]
    }
   ],
   "source": [
    "df=pd.DataFrame({'Catagory':['A','B','C','A','B','C'],'Sales':[100,200,150,150,130,200],'Profit':[10,15,20,25,30,15]})\n",
    "print(\"\\nOriginal DataFrame :\\n\",df)"
   ]
  },
  {
   "cell_type": "code",
   "execution_count": 14,
   "id": "9bb0ff24",
   "metadata": {},
   "outputs": [
    {
     "name": "stdout",
     "output_type": "stream",
     "text": [
      "         Sales        Profit    \n",
      "           sum   mean    sum max\n",
      "Catagory                        \n",
      "A          250  125.0     35  25\n",
      "B          330  165.0     45  30\n",
      "C          350  175.0     35  20\n"
     ]
    }
   ],
   "source": [
    "df_grouped=df.groupby('Catagory').agg({'Sales':['sum','mean'],'Profit':['sum','max']})\n",
    "print(df_grouped)"
   ]
  },
  {
   "cell_type": "code",
   "execution_count": null,
   "id": "d230882d",
   "metadata": {},
   "outputs": [],
   "source": []
  }
 ],
 "metadata": {
  "kernelspec": {
   "display_name": "Python 3 (ipykernel)",
   "language": "python",
   "name": "python3"
  },
  "language_info": {
   "codemirror_mode": {
    "name": "ipython",
    "version": 3
   },
   "file_extension": ".py",
   "mimetype": "text/x-python",
   "name": "python",
   "nbconvert_exporter": "python",
   "pygments_lexer": "ipython3",
   "version": "3.11.5"
  }
 },
 "nbformat": 4,
 "nbformat_minor": 5
}
