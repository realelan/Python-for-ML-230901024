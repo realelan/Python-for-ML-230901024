{
  "nbformat": 4,
  "nbformat_minor": 0,
  "metadata": {
    "colab": {
      "provenance": []
    },
    "kernelspec": {
      "name": "python3",
      "display_name": "Python 3"
    },
    "language_info": {
      "name": "python"
    }
  },
  "cells": [
    {
      "cell_type": "code",
      "execution_count": null,
      "metadata": {
        "colab": {
          "base_uri": "https://localhost:8080/"
        },
        "id": "tSxGZAmHAnn6",
        "outputId": "45f66e7d-9200-4f49-a432-094fe1d13fb8"
      },
      "outputs": [
        {
          "output_type": "stream",
          "name": "stdout",
          "text": [
            "DataFrame.apply fucntion:\n",
            "\n",
            "\n",
            " Original DataFrame:\n",
            "    S  R\n",
            "0  3  9\n",
            "1  3  9\n",
            "2  3  9\n",
            "3  3  9\n",
            "\n",
            " SequarerootofDataFrame:\n",
            "           S    R\n",
            "0  1.732051  3.0\n",
            "1  1.732051  3.0\n",
            "2  1.732051  3.0\n",
            "3  1.732051  3.0\n",
            "\n",
            " Sumofeachcolumn: \n",
            " S    12\n",
            "R    36\n",
            "dtype: int64\n",
            "\n",
            " Sumofeachrow:\n",
            " 0    12\n",
            "1    12\n",
            "2    12\n",
            "3    12\n",
            "dtype: int64\n"
          ]
        }
      ],
      "source": [
        "import pandas as pd\n",
        "import numpy as np\n",
        "\n",
        "print(\"DataFrame.apply fucntion:\\n\")\n",
        "info = pd.DataFrame([[3, 9]] * 4, columns=['S', 'R'])\n",
        "print(\"\\n Original DataFrame:\\n\", info)\n",
        "print(\"\\n SequarerootofDataFrame:\\n\", info.apply(np.sqrt))\n",
        "print(\"\\n Sumofeachcolumn: \\n\", info.apply(np.sum, axis=0))\n",
        "print(\"\\n Sumofeachrow:\\n\", info.apply(np.sum, axis=1))"
      ]
    },
    {
      "cell_type": "code",
      "source": [
        "import pandas as pd\n",
        "import numpy as np\n",
        "info=pd.DataFrame([[2,4,6],[1,3,5],[5,8,7]], columns=['X','Y','Z'])\n",
        "print(info)\n",
        "print(info.agg(['min','max']))\n",
        "d2=pd.DataFrame([['Sai',88],['Poo',70]])\n",
        "column=['Emp','ID']\n",
        "print(d2)"
      ],
      "metadata": {
        "id": "VsH7B-HHBkZJ",
        "colab": {
          "base_uri": "https://localhost:8080/"
        },
        "outputId": "0763a16a-2921-434d-a8c6-b5b3018957b6"
      },
      "execution_count": 4,
      "outputs": [
        {
          "output_type": "stream",
          "name": "stdout",
          "text": [
            "   X  Y  Z\n",
            "0  2  4  6\n",
            "1  1  3  5\n",
            "2  5  8  7\n",
            "     X  Y  Z\n",
            "min  1  3  5\n",
            "max  5  8  7\n",
            "     0   1\n",
            "0  Sai  88\n",
            "1  Poo  70\n"
          ]
        }
      ]
    },
    {
      "cell_type": "code",
      "source": [
        "#Adding new column\n",
        "d2['Age']=[20,18]\n",
        "print(d2)"
      ],
      "metadata": {
        "id": "f4qZirwsBlwY",
        "colab": {
          "base_uri": "https://localhost:8080/"
        },
        "outputId": "0de118dd-c192-4672-fd48-abd382530233"
      },
      "execution_count": 5,
      "outputs": [
        {
          "output_type": "stream",
          "name": "stdout",
          "text": [
            "     0   1  Age\n",
            "0  Sai  88   20\n",
            "1  Poo  70   18\n"
          ]
        }
      ]
    },
    {
      "cell_type": "code",
      "source": [
        "d=d2.assign(Sex=['Male','Male'])\n",
        "print(d)"
      ],
      "metadata": {
        "colab": {
          "base_uri": "https://localhost:8080/"
        },
        "id": "6zRmGFlZh_At",
        "outputId": "29bd3bc6-77ea-4ce7-b271-05c2042be5cc"
      },
      "execution_count": 8,
      "outputs": [
        {
          "output_type": "stream",
          "name": "stdout",
          "text": [
            "     0   1  Age   Sex\n",
            "0  Sai  88   20  Male\n",
            "1  Poo  70   18  Male\n"
          ]
        }
      ]
    },
    {
      "cell_type": "code",
      "source": [
        "#Sorting\n",
        "info=pd.DataFrame(np.random.randn(5,2),index=[3,2,0,4,1],columns=['col3','col4'])\n",
        "print(info)"
      ],
      "metadata": {
        "colab": {
          "base_uri": "https://localhost:8080/"
        },
        "id": "ZwOPHnZek0qd",
        "outputId": "8bc4ecaa-2084-4511-8efc-2ed5198e36eb"
      },
      "execution_count": 17,
      "outputs": [
        {
          "output_type": "stream",
          "name": "stdout",
          "text": [
            "       col3      col4\n",
            "3  2.235071  0.490379\n",
            "2  0.104687 -0.269544\n",
            "0 -0.239781 -0.522901\n",
            "4  0.652418  1.499788\n",
            "1  1.221986  0.860661\n"
          ]
        }
      ]
    },
    {
      "cell_type": "code",
      "source": [
        "info2=info.sort_index()\n",
        "print(info2)"
      ],
      "metadata": {
        "colab": {
          "base_uri": "https://localhost:8080/"
        },
        "id": "3m_0SaPtlidV",
        "outputId": "0944076c-1a2f-4a01-aeb8-b5b7c8e12421"
      },
      "execution_count": 18,
      "outputs": [
        {
          "output_type": "stream",
          "name": "stdout",
          "text": [
            "       col3      col4\n",
            "0 -0.239781 -0.522901\n",
            "1  1.221986  0.860661\n",
            "2  0.104687 -0.269544\n",
            "3  2.235071  0.490379\n",
            "4  0.652418  1.499788\n"
          ]
        }
      ]
    },
    {
      "cell_type": "code",
      "source": [
        "info3=info.sort_values(by='col3')\n",
        "print(info3)"
      ],
      "metadata": {
        "colab": {
          "base_uri": "https://localhost:8080/"
        },
        "id": "U_kitB7Clifm",
        "outputId": "1e557329-98d3-44e1-980d-06d3d2423eeb"
      },
      "execution_count": 19,
      "outputs": [
        {
          "output_type": "stream",
          "name": "stdout",
          "text": [
            "       col3      col4\n",
            "0 -0.239781 -0.522901\n",
            "2  0.104687 -0.269544\n",
            "4  0.652418  1.499788\n",
            "1  1.221986  0.860661\n",
            "3  2.235071  0.490379\n"
          ]
        }
      ]
    },
    {
      "cell_type": "code",
      "source": [
        "left=pd.DataFrame({'id':[1,2,3,4],'Name':['A','B','C','D'],'Sub':['sa','..','re','ga']})\n",
        "right=pd.DataFrame({'id':[1,3,4,5],'Age':[20,21,22,23],'Add':['Nah','Id','Win',':D']})\n",
        "merge=pd.merge(left,right,on='id')\n",
        "print(merge)"
      ],
      "metadata": {
        "colab": {
          "base_uri": "https://localhost:8080/"
        },
        "id": "hOLQYW3WlinN",
        "outputId": "cfaaf78c-61bc-4939-ba19-2c3bfb06933d"
      },
      "execution_count": 27,
      "outputs": [
        {
          "output_type": "stream",
          "name": "stdout",
          "text": [
            "   id Name Sub  Age  Add\n",
            "0   1    A  sa   20  Nah\n",
            "1   3    C  re   21   Id\n",
            "2   4    D  ga   22  Win\n"
          ]
        }
      ]
    },
    {
      "cell_type": "code",
      "source": [],
      "metadata": {
        "id": "_p_sAHr-lipx"
      },
      "execution_count": null,
      "outputs": []
    }
  ]
}
