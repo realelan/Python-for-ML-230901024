{
  "nbformat": 4,
  "nbformat_minor": 0,
  "metadata": {
    "colab": {
      "provenance": []
    },
    "kernelspec": {
      "name": "python3",
      "display_name": "Python 3"
    },
    "language_info": {
      "name": "python"
    }
  },
  "cells": [
    {
      "cell_type": "code",
      "execution_count": 1,
      "metadata": {
        "colab": {
          "base_uri": "https://localhost:8080/"
        },
        "id": "BuE5Col6WF19",
        "outputId": "ac5aa89b-cc1e-4484-ad13-0f98d91de9d5"
      },
      "outputs": [
        {
          "output_type": "stream",
          "name": "stdout",
          "text": [
            "2025-04-07 03:43:49.270979\n"
          ]
        }
      ],
      "source": [
        "import datetime\n",
        "cd=datetime.datetime.now()\n",
        "print(cd)"
      ]
    },
    {
      "cell_type": "code",
      "source": [
        "res=cd.strftime(\"%y\")\n",
        "print(\"\\nTwo-digit year:\", res)"
      ],
      "metadata": {
        "colab": {
          "base_uri": "https://localhost:8080/"
        },
        "id": "WfmsqBOnWLpc",
        "outputId": "a6f6a313-9246-4c30-8935-efb1ce59a320"
      },
      "execution_count": 3,
      "outputs": [
        {
          "output_type": "stream",
          "name": "stdout",
          "text": [
            "\n",
            "Two-digit year: 25\n"
          ]
        }
      ]
    },
    {
      "cell_type": "code",
      "source": [
        "res1=cd.strftime(\"%Y\")\n",
        "print(\"\\nFour-digit year:\", res1)"
      ],
      "metadata": {
        "colab": {
          "base_uri": "https://localhost:8080/"
        },
        "id": "3wy3zX3yWLsR",
        "outputId": "cc0f12bc-fddb-4b24-8eb9-b3bf6330ca02"
      },
      "execution_count": 4,
      "outputs": [
        {
          "output_type": "stream",
          "name": "stdout",
          "text": [
            "\n",
            "Four-digit year: 2025\n"
          ]
        }
      ]
    },
    {
      "cell_type": "code",
      "source": [
        "res=cd.strftime(\"%m\")\n",
        "print(\"\\nTwo-digit month [01, 12]:\",res)"
      ],
      "metadata": {
        "colab": {
          "base_uri": "https://localhost:8080/"
        },
        "id": "w1Fxn4WGWLuo",
        "outputId": "584ebec1-1ae2-4319-9ac6-85964686e75b"
      },
      "execution_count": 5,
      "outputs": [
        {
          "output_type": "stream",
          "name": "stdout",
          "text": [
            "\n",
            "Two-digit month [01, 12]: 04\n"
          ]
        }
      ]
    },
    {
      "cell_type": "code",
      "source": [
        "res=cd.strftime(\"%b\")\n",
        "print(\"\\nShort version of month\", res)"
      ],
      "metadata": {
        "colab": {
          "base_uri": "https://localhost:8080/"
        },
        "id": "r2Tawy_7WLzn",
        "outputId": "94f96730-6497-4741-bf65-31ae5ad39b98"
      },
      "execution_count": 6,
      "outputs": [
        {
          "output_type": "stream",
          "name": "stdout",
          "text": [
            "\n",
            "Short version of month Apr\n"
          ]
        }
      ]
    },
    {
      "cell_type": "code",
      "source": [
        "res=cd.strftime(\"%B\")\n",
        "print(\"\\nFull name of month:\",res)"
      ],
      "metadata": {
        "colab": {
          "base_uri": "https://localhost:8080/"
        },
        "id": "YIS9snEPWL2L",
        "outputId": "6dc03f14-aeee-4280-fa6a-b6b0a389ea41"
      },
      "execution_count": 7,
      "outputs": [
        {
          "output_type": "stream",
          "name": "stdout",
          "text": [
            "\n",
            "Full name of month: April\n"
          ]
        }
      ]
    },
    {
      "cell_type": "code",
      "source": [
        "res=cd.strftime(\"%j\")\n",
        "print(\"\\nDays of the year:\", res)"
      ],
      "metadata": {
        "colab": {
          "base_uri": "https://localhost:8080/"
        },
        "id": "2lfMa10jWL5D",
        "outputId": "cf7d7932-2698-4042-90ba-7e6a7e82aaf7"
      },
      "execution_count": 8,
      "outputs": [
        {
          "output_type": "stream",
          "name": "stdout",
          "text": [
            "\n",
            "Days of the year: 097\n"
          ]
        }
      ]
    },
    {
      "cell_type": "code",
      "source": [
        "res=cd.strftime(\"%D\")\n",
        "print(\"\\nShortcut for %m/%d/%y (e.g., 04/18/12):\", res)"
      ],
      "metadata": {
        "colab": {
          "base_uri": "https://localhost:8080/"
        },
        "id": "B230BkePWL7p",
        "outputId": "03d77b91-4aa3-4348-8cdd-13a992b659cb"
      },
      "execution_count": 9,
      "outputs": [
        {
          "output_type": "stream",
          "name": "stdout",
          "text": [
            "\n",
            "Shortcut for %m/%d/%y (e.g., 04/18/12): 04/07/25\n"
          ]
        }
      ]
    },
    {
      "cell_type": "code",
      "source": [
        "res=cd.strftime(\"%d\")\n",
        "print(\"\\nTwo-digit day [01, 31]:\", res)"
      ],
      "metadata": {
        "colab": {
          "base_uri": "https://localhost:8080/"
        },
        "id": "4baZ0RSWWL9_",
        "outputId": "a4b6d3b1-431b-4345-e4bf-319f00fd3feb"
      },
      "execution_count": 10,
      "outputs": [
        {
          "output_type": "stream",
          "name": "stdout",
          "text": [
            "\n",
            "Two-digit day [01, 31]: 07\n"
          ]
        }
      ]
    },
    {
      "cell_type": "code",
      "source": [
        "res=cd.strftime(\"%a\")\n",
        "print(\"\\nShort version of day\", res)"
      ],
      "metadata": {
        "colab": {
          "base_uri": "https://localhost:8080/"
        },
        "id": "8L2v8WM1XoNE",
        "outputId": "dfe9c887-4bb5-489f-81e6-b284fadf9ec0"
      },
      "execution_count": 11,
      "outputs": [
        {
          "output_type": "stream",
          "name": "stdout",
          "text": [
            "\n",
            "Short version of day Mon\n"
          ]
        }
      ]
    },
    {
      "cell_type": "code",
      "source": [
        "res=cd.strftime(\"A\")\n",
        "print(\"\\nFull name of a day:\", res)"
      ],
      "metadata": {
        "colab": {
          "base_uri": "https://localhost:8080/"
        },
        "id": "2E7X0fBOXoQL",
        "outputId": "ade4e5e4-9b65-4b20-f2d1-6c5372b42f24"
      },
      "execution_count": 12,
      "outputs": [
        {
          "output_type": "stream",
          "name": "stdout",
          "text": [
            "\n",
            "Full name of a day: A\n"
          ]
        }
      ]
    },
    {
      "cell_type": "code",
      "source": [
        "res=cd.strftime(\"%H\")\n",
        "print(\"\\nHour (24-hour clock) [00, 23]:\",res)"
      ],
      "metadata": {
        "colab": {
          "base_uri": "https://localhost:8080/"
        },
        "id": "xUOgkjefXoTC",
        "outputId": "6aa65056-62bd-4d7d-be9d-eba944026842"
      },
      "execution_count": 13,
      "outputs": [
        {
          "output_type": "stream",
          "name": "stdout",
          "text": [
            "\n",
            "Hour (24-hour clock) [00, 23]: 03\n"
          ]
        }
      ]
    },
    {
      "cell_type": "code",
      "source": [
        "res=cd.strftime(\"%I\")\n",
        "print(\"\\nHour (12-hour clock) [01, 12]\",res)"
      ],
      "metadata": {
        "colab": {
          "base_uri": "https://localhost:8080/"
        },
        "id": "OWNhMY0ZXoV5",
        "outputId": "3d74d329-fa72-47ac-d503-7996fd6e97de"
      },
      "execution_count": 15,
      "outputs": [
        {
          "output_type": "stream",
          "name": "stdout",
          "text": [
            "\n",
            "Hour (12-hour clock) [01, 12] 03\n"
          ]
        }
      ]
    },
    {
      "cell_type": "code",
      "source": [
        "res=cd.strftime(\"%M\")\n",
        "print(\"\\nTwo-digit minute [00, 59]:\", res)"
      ],
      "metadata": {
        "colab": {
          "base_uri": "https://localhost:8080/"
        },
        "id": "aivcoA59XoYf",
        "outputId": "cf65278a-d789-4fbe-8cb7-d39261fc7ae7"
      },
      "execution_count": 16,
      "outputs": [
        {
          "output_type": "stream",
          "name": "stdout",
          "text": [
            "\n",
            "Two-digit minute [00, 59]: 43\n"
          ]
        }
      ]
    },
    {
      "cell_type": "code",
      "source": [
        "res=cd.strftime(\"%S\")\n",
        "print(\"\\nSecond (00, 61] (seconds 60, 61 account for leap seconds):\",res)"
      ],
      "metadata": {
        "colab": {
          "base_uri": "https://localhost:8080/"
        },
        "id": "1PkmEWtkXobG",
        "outputId": "c89a914a-9b13-4138-ec30-fdcaae169b38"
      },
      "execution_count": 17,
      "outputs": [
        {
          "output_type": "stream",
          "name": "stdout",
          "text": [
            "\n",
            "Second (00, 61] (seconds 60, 61 account for leap seconds): 49\n"
          ]
        }
      ]
    },
    {
      "cell_type": "code",
      "source": [
        "res=cd.strftime(\"%F\")\n",
        "print(\"\\nShortcut for %Y-%m-%d (eg, 2012-4-18):\",res)"
      ],
      "metadata": {
        "colab": {
          "base_uri": "https://localhost:8080/"
        },
        "id": "LMry-046XomF",
        "outputId": "d2d04524-f7bf-4032-be55-e30ad567acdb"
      },
      "execution_count": 18,
      "outputs": [
        {
          "output_type": "stream",
          "name": "stdout",
          "text": [
            "\n",
            "Shortcut for %Y-%m-%d (eg, 2012-4-18): 2025-04-07\n"
          ]
        }
      ]
    },
    {
      "cell_type": "code",
      "source": [
        "res=cd.strftime(\"%f\")\n",
        "print(\"\\nMicrosecond as an integer, zero-padded (from 000000 to 999999)\", res)"
      ],
      "metadata": {
        "colab": {
          "base_uri": "https://localhost:8080/"
        },
        "id": "CfjzEWTlY4wA",
        "outputId": "6c3ba2f1-01d4-48b4-bf6a-e521e92e16ef"
      },
      "execution_count": 19,
      "outputs": [
        {
          "output_type": "stream",
          "name": "stdout",
          "text": [
            "\n",
            "Microsecond as an integer, zero-padded (from 000000 to 999999) 270979\n"
          ]
        }
      ]
    },
    {
      "cell_type": "code",
      "source": [
        "res=cd.strftime(\"%p\")\n",
        "print(\"\\nLocale equivalent of AM or PM:\", res)"
      ],
      "metadata": {
        "colab": {
          "base_uri": "https://localhost:8080/"
        },
        "id": "ZX_bU10TY4yl",
        "outputId": "4c88bff9-8207-48f5-b2a4-0b4791899b81"
      },
      "execution_count": 20,
      "outputs": [
        {
          "output_type": "stream",
          "name": "stdout",
          "text": [
            "\n",
            "Locale equivalent of AM or PM: AM\n"
          ]
        }
      ]
    },
    {
      "cell_type": "code",
      "source": [
        "res=cd.strftime(\"%x\")\n",
        "print(\"\\nLocale-appropriate formatted date (eg, in the United States, May 1, 2012 yields '05/01/2012')\", res)"
      ],
      "metadata": {
        "colab": {
          "base_uri": "https://localhost:8080/"
        },
        "id": "Yk5MRomAY41t",
        "outputId": "058703e2-d573-4329-ad70-c4e75be46996"
      },
      "execution_count": 24,
      "outputs": [
        {
          "output_type": "stream",
          "name": "stdout",
          "text": [
            "\n",
            "Locale-appropriate formatted date (eg, in the United States, May 1, 2012 yields '05/01/2012') 04/07/25\n"
          ]
        }
      ]
    },
    {
      "cell_type": "code",
      "source": [
        "res=cd.strftime(\"%X\")\n",
        "print(\"\\nLocale-appropriate time (e.g., '04:24:12PM'):\",res)"
      ],
      "metadata": {
        "colab": {
          "base_uri": "https://localhost:8080/"
        },
        "id": "ejilPtFvY44U",
        "outputId": "bcb10050-4b4b-477b-9832-ed81a0d924e2"
      },
      "execution_count": 26,
      "outputs": [
        {
          "output_type": "stream",
          "name": "stdout",
          "text": [
            "\n",
            "Locale-appropriate time (e.g., '04:24:12PM'): 03:43:49\n"
          ]
        }
      ]
    },
    {
      "cell_type": "code",
      "source": [],
      "metadata": {
        "id": "KGLSSE2eY466"
      },
      "execution_count": null,
      "outputs": []
    },
    {
      "cell_type": "code",
      "source": [],
      "metadata": {
        "id": "Ntln8BqMY5DD"
      },
      "execution_count": null,
      "outputs": []
    },
    {
      "cell_type": "code",
      "source": [],
      "metadata": {
        "id": "l_f0pOC2Y5Fm"
      },
      "execution_count": null,
      "outputs": []
    }
  ]
}