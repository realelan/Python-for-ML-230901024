{
  "nbformat": 4,
  "nbformat_minor": 0,
  "metadata": {
    "colab": {
      "provenance": []
    },
    "kernelspec": {
      "name": "python3",
      "display_name": "Python 3"
    },
    "language_info": {
      "name": "python"
    }
  },
  "cells": [
    {
      "cell_type": "code",
      "execution_count": null,
      "metadata": {
        "id": "PXPsSY4yZn6x",
        "colab": {
          "base_uri": "https://localhost:8080/"
        },
        "outputId": "69ace0af-81cd-4471-fd17-b19ab42c25d3"
      },
      "outputs": [
        {
          "output_type": "stream",
          "name": "stdout",
          "text": [
            "[3 4 5 6]\n"
          ]
        }
      ],
      "source": [
        "#slice with step of one\n",
        "import numpy as np\n",
        "arr=np.array([1,2,3,4,5,6,7,8,9])\n",
        "slice1=arr[2:6]\n",
        "print(slice1)"
      ]
    },
    {
      "cell_type": "code",
      "source": [
        "#slice with step of two\n",
        "slice2=arr[::2]\n",
        "print(slice2)"
      ],
      "metadata": {
        "id": "VnjxTFzBbmRi",
        "colab": {
          "base_uri": "https://localhost:8080/"
        },
        "outputId": "624c13e3-78d6-4ff0-9012-8f77a43de7da"
      },
      "execution_count": null,
      "outputs": [
        {
          "output_type": "stream",
          "name": "stdout",
          "text": [
            "[1 3 5 7 9]\n"
          ]
        }
      ]
    },
    {
      "cell_type": "code",
      "source": [
        "#reverse slicing\n",
        "slice3=arr[::-1]\n",
        "print(slice3)"
      ],
      "metadata": {
        "id": "zGzoQ_xrbmTN",
        "colab": {
          "base_uri": "https://localhost:8080/"
        },
        "outputId": "1ac79fcd-c648-40cc-9173-fc7d3740777a"
      },
      "execution_count": null,
      "outputs": [
        {
          "output_type": "stream",
          "name": "stdout",
          "text": [
            "[9 8 7 6 5 4 3 2 1]\n"
          ]
        }
      ]
    },
    {
      "cell_type": "code",
      "source": [
        "#reverse slicing2\n",
        "slice4=arr[::-2]\n",
        "print(slice4)"
      ],
      "metadata": {
        "id": "6zLCtEajbmWV",
        "colab": {
          "base_uri": "https://localhost:8080/"
        },
        "outputId": "77abc28d-74fc-4a43-d54f-bb87f72f422f"
      },
      "execution_count": null,
      "outputs": [
        {
          "output_type": "stream",
          "name": "stdout",
          "text": [
            "[9 7 5 3 1]\n"
          ]
        }
      ]
    },
    {
      "cell_type": "code",
      "source": [
        "#slicing twodimenstional array\n",
        "arr2=np.array([[1,2,3],[4,5,6],[7,8,9]])\n",
        "#slice array 0 to 2 column 1 to 3\n",
        "slice5=arr2[0:2,1:3]\n",
        "print(slice5)"
      ],
      "metadata": {
        "id": "7qClA416ZxNu",
        "colab": {
          "base_uri": "https://localhost:8080/"
        },
        "outputId": "3c4a78ab-bc9d-42a5-d984-e5a71dbcfae3"
      },
      "execution_count": null,
      "outputs": [
        {
          "output_type": "stream",
          "name": "stdout",
          "text": [
            "[[2 3]\n",
            " [5 6]]\n"
          ]
        }
      ]
    },
    {
      "cell_type": "code",
      "source": [
        "#extracting first column\n",
        "arr3=np.array([[1,2,3],[4,5,6],[7,8,9]])\n",
        "c01=arr3[:,0]\n",
        "print(c01)"
      ],
      "metadata": {
        "id": "3cCTazACZxWV",
        "colab": {
          "base_uri": "https://localhost:8080/"
        },
        "outputId": "fdcab623-ce6d-4420-f861-08f46d2b1255"
      },
      "execution_count": null,
      "outputs": [
        {
          "output_type": "stream",
          "name": "stdout",
          "text": [
            "[1 4 7]\n"
          ]
        }
      ]
    },
    {
      "cell_type": "code",
      "source": [
        "#extracting second row\n",
        "r02=arr3[1,:]\n",
        "print(r02)"
      ],
      "metadata": {
        "id": "bp-8tcxhZxY3",
        "colab": {
          "base_uri": "https://localhost:8080/"
        },
        "outputId": "51698187-2a93-40fd-8cf3-4af05640c1d5"
      },
      "execution_count": null,
      "outputs": [
        {
          "output_type": "stream",
          "name": "stdout",
          "text": [
            "[4 5 6]\n"
          ]
        }
      ]
    },
    {
      "cell_type": "code",
      "source": [
        "#extraction3\n",
        "print(arr3[0,0])\n",
        "print(arr3[1,2])"
      ],
      "metadata": {
        "id": "mDqQXYYMZxbu",
        "colab": {
          "base_uri": "https://localhost:8080/"
        },
        "outputId": "c1cb55cc-4c4e-4dd6-b5af-2de006a7b18e"
      },
      "execution_count": null,
      "outputs": [
        {
          "output_type": "stream",
          "name": "stdout",
          "text": [
            "1\n",
            "6\n"
          ]
        }
      ]
    },
    {
      "cell_type": "code",
      "source": [
        "#basic indexing\n",
        "arr=np.array([10,20,30,40,50])\n",
        "print(arr[1])\n"
      ],
      "metadata": {
        "id": "mpzaodyvZxem",
        "colab": {
          "base_uri": "https://localhost:8080/"
        },
        "outputId": "5d2f08ff-feb0-4648-9324-b3f2e83198ce"
      },
      "execution_count": null,
      "outputs": [
        {
          "output_type": "stream",
          "name": "stdout",
          "text": [
            "20\n"
          ]
        }
      ]
    },
    {
      "cell_type": "code",
      "source": [
        "#subset indexing\n",
        "print(arr[1:4])"
      ],
      "metadata": {
        "id": "5VnYkFuPZxhM",
        "colab": {
          "base_uri": "https://localhost:8080/"
        },
        "outputId": "add4d7f0-9ef2-44b2-eca4-1e561efec285"
      },
      "execution_count": null,
      "outputs": [
        {
          "output_type": "stream",
          "name": "stdout",
          "text": [
            "[20 30 40]\n"
          ]
        }
      ]
    },
    {
      "cell_type": "code",
      "source": [
        "print(arr[arr>25])"
      ],
      "metadata": {
        "id": "zsQM59gdZxjz",
        "colab": {
          "base_uri": "https://localhost:8080/"
        },
        "outputId": "053f2a64-e172-40b9-905c-6d9caf6a9971"
      },
      "execution_count": null,
      "outputs": [
        {
          "output_type": "stream",
          "name": "stdout",
          "text": [
            "[30 40 50]\n"
          ]
        }
      ]
    },
    {
      "cell_type": "code",
      "source": [
        "#horizontal joint\n",
        "arr1=np.array([[1,2],[3,4]])\n",
        "arr2=np.array([[5,6],[7,8]])\n",
        "result=np.hstack((arr1,arr2))\n",
        "print(result)"
      ],
      "metadata": {
        "id": "3PpVUlPBZxmJ",
        "colab": {
          "base_uri": "https://localhost:8080/"
        },
        "outputId": "5a09c862-f222-4713-c7fb-6b6044414240"
      },
      "execution_count": null,
      "outputs": [
        {
          "output_type": "stream",
          "name": "stdout",
          "text": [
            "[[1 2 5 6]\n",
            " [3 4 7 8]]\n"
          ]
        }
      ]
    },
    {
      "cell_type": "code",
      "source": [
        "#vertical joint\n",
        "arr1=np.array([[1,2],[3,4]])\n",
        "arr2=np.array([[5,6],[7,8]])\n",
        "result2=np.vstack((arr1,arr2))\n",
        "print(result2)"
      ],
      "metadata": {
        "colab": {
          "base_uri": "https://localhost:8080/"
        },
        "id": "hY_oeQ-zqLXc",
        "outputId": "b71dcd62-b3c8-48a2-efb6-80b800077dbf"
      },
      "execution_count": null,
      "outputs": [
        {
          "output_type": "stream",
          "name": "stdout",
          "text": [
            "[[1 2]\n",
            " [3 4]\n",
            " [5 6]\n",
            " [7 8]]\n"
          ]
        }
      ]
    },
    {
      "cell_type": "code",
      "source": [
        "#depth joint\n",
        "arr1=np.array([[1,2],[3,4]])\n",
        "arr2=np.array([[5,6],[7,8]])\n",
        "result3=np.dstack((arr1,arr2))\n",
        "print(result3)"
      ],
      "metadata": {
        "colab": {
          "base_uri": "https://localhost:8080/"
        },
        "id": "83AKXbaLqL4O",
        "outputId": "d22996d1-b9f7-410b-cb02-33e6c2beeaad"
      },
      "execution_count": null,
      "outputs": [
        {
          "output_type": "stream",
          "name": "stdout",
          "text": [
            "[[[1 5]\n",
            "  [2 6]]\n",
            "\n",
            " [[3 7]\n",
            "  [4 8]]]\n"
          ]
        }
      ]
    },
    {
      "cell_type": "code",
      "source": [
        "#splitting in numpy\n",
        "arr=np.array([1,2,3,4,5,6])\n",
        "result4=np.split(arr,2)\n",
        "print(result4)\n",
        "\n"
      ],
      "metadata": {
        "colab": {
          "base_uri": "https://localhost:8080/"
        },
        "id": "7AsBX1qVqL7D",
        "outputId": "2b0685a8-ac59-483a-9ce8-e19d66dcb458"
      },
      "execution_count": null,
      "outputs": [
        {
          "output_type": "stream",
          "name": "stdout",
          "text": [
            "[array([1, 2, 3]), array([4, 5, 6])]\n"
          ]
        }
      ]
    },
    {
      "cell_type": "code",
      "source": [
        "arr=np.array([1,2,3,4,5,6])\n",
        "result5=np.split(arr,3)\n",
        "print(result5)"
      ],
      "metadata": {
        "colab": {
          "base_uri": "https://localhost:8080/"
        },
        "id": "HjsJW2AOstV4",
        "outputId": "fe38dbc5-7f10-42e6-9be4-35afef344299"
      },
      "execution_count": null,
      "outputs": [
        {
          "output_type": "stream",
          "name": "stdout",
          "text": [
            "[array([1, 2]), array([3, 4]), array([5, 6])]\n"
          ]
        }
      ]
    },
    {
      "cell_type": "code",
      "source": [
        "#splitting unequal parts\n",
        "result=np.array_split(arr,3)\n",
        "print(result)"
      ],
      "metadata": {
        "colab": {
          "base_uri": "https://localhost:8080/"
        },
        "id": "CUsMuMqJs7b-",
        "outputId": "7a9a0f45-345d-4c32-b1ba-136bedc9967b"
      },
      "execution_count": null,
      "outputs": [
        {
          "output_type": "stream",
          "name": "stdout",
          "text": [
            "[array([1, 2]), array([3, 4]), array([5, 6])]\n"
          ]
        }
      ]
    },
    {
      "cell_type": "code",
      "source": [
        "#horizontal splitting\n",
        "arr=np.array([[1,2],[3,4],[5,6]])\n",
        "result6=np.hsplit(arr,2)\n",
        "print(result6)"
      ],
      "metadata": {
        "colab": {
          "base_uri": "https://localhost:8080/"
        },
        "id": "WQowwq-gs7fE",
        "outputId": "2fb05308-67a0-4f7f-bbfe-0d749d8c4f86"
      },
      "execution_count": null,
      "outputs": [
        {
          "output_type": "stream",
          "name": "stdout",
          "text": [
            "[array([[1],\n",
            "       [3],\n",
            "       [5]]), array([[2],\n",
            "       [4],\n",
            "       [6]])]\n"
          ]
        }
      ]
    },
    {
      "cell_type": "code",
      "source": [
        "#vertical splitting\n",
        "result7=np.vsplit(arr,3)\n",
        "print(result7)\n"
      ],
      "metadata": {
        "colab": {
          "base_uri": "https://localhost:8080/"
        },
        "id": "07hIsWFks7hJ",
        "outputId": "92a4f2b5-1ceb-4fd6-c392-ee50df1a8a39"
      },
      "execution_count": null,
      "outputs": [
        {
          "output_type": "stream",
          "name": "stdout",
          "text": [
            "[array([[1, 2]]), array([[3, 4]]), array([[5, 6]])]\n"
          ]
        }
      ]
    },
    {
      "cell_type": "code",
      "source": [],
      "metadata": {
        "id": "a-kKORw_tbnc"
      },
      "execution_count": null,
      "outputs": []
    },
    {
      "cell_type": "code",
      "source": [],
      "metadata": {
        "id": "4ENJtHJLuDKG"
      },
      "execution_count": null,
      "outputs": []
    },
    {
      "cell_type": "code",
      "source": [],
      "metadata": {
        "id": "DPXGgM_luDOP"
      },
      "execution_count": null,
      "outputs": []
    },
    {
      "cell_type": "code",
      "source": [],
      "metadata": {
        "id": "9sAKnpMnuDVF"
      },
      "execution_count": null,
      "outputs": []
    },
    {
      "cell_type": "code",
      "source": [],
      "metadata": {
        "id": "rH9SEqqttbp7"
      },
      "execution_count": null,
      "outputs": []
    }
  ]
}
