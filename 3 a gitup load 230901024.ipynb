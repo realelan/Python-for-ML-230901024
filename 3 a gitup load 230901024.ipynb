{
 "cells": [
  {
   "cell_type": "code",
   "execution_count": 1,
   "id": "5fc1fe99",
   "metadata": {},
   "outputs": [
    {
     "name": "stdout",
     "output_type": "stream",
     "text": [
      "    REG NO      NAME     AGE  GENDER STARTING DATE  SALARY   BONUS LAST LOGIN  \\\n",
      "0    65865    kaviya  female      24    01.05.2019   25000  0.1200   12:07:00   \n",
      "1    35598  kalanjia  female      23    22.01.2020   23000  0.1200   13:00:00   \n",
      "2    37165   karthic    male      25    15.12.2018   23000  0.0960   10:30:00   \n",
      "3    68121       anu  female      22    23.05.2017   25000  0.1500   11:09:00   \n",
      "4    25542    harish    male      26    09.12.2019   26000  0.1000   12:07:00   \n",
      "5    36725      inba    male      24    14.03.2015   30000  0.0950   13:00:00   \n",
      "6    36823   deepika  female      22    19.09.2013   32000  0.0625   10:30:00   \n",
      "7    54893  krishnan    male      24    24.01.2010   27000  0.0940   11:09:00   \n",
      "8    36412  hirthick    male      29    30.12.2017   29000  0.1500   12:07:00   \n",
      "9    98135    samuel    male      30    03.03.2013   25500  0.1450   13:00:00   \n",
      "10   96145     jerry    male      27    12.12.2029   27800  0.1200   10:30:00   \n",
      "11   12546    wilson    male      29    15.07.2016   26000  0.0940   11:09:00   \n",
      "12   35549   mithali  female      23    29.03.2014   35000  0.1600   12:07:00   \n",
      "13   24016     virat    male      25    24.12.2019   32100  0.1400   13:00:00   \n",
      "14   95324     vijay    male      29    17.03.2019   28000  0.1350   10:30:00   \n",
      "15   65423     ajith    male      26    01.12.2016   30000  0.1800   11:09:00   \n",
      "16   68523   dhaswin    male      23    27.06.2016   36000  0.1700   12:07:00   \n",
      "17   92333  harshini  female      25    23.03.2014   35000  0.0950   13:00:00   \n",
      "18   65542    bhavya  female      26    19.12.2014   30000  0.1620   10:30:00   \n",
      "19   32256   mathosh    male      25    31.01.2019   32000  0.1500   11:09:00   \n",
      "20   36552  siddarth    male      31    09.09.2016   29500  0.1200   12:07:00   \n",
      "21   26578    neeraj    male      30    16.02.2015   26000  0.0850   13:00:00   \n",
      "22   65498    edison    male      33    13.02.2019   32000  0.1000   10:30:00   \n",
      "23   36563    harini  female      24    30.12.2014   32000  0.1120   11:09:00   \n",
      "24   55963    sriram    male      29    08.05.2018   25000  0.1450   09:15:00   \n",
      "\n",
      "   TEAM  \n",
      "0     A  \n",
      "1     D  \n",
      "2     A  \n",
      "3     B  \n",
      "4     B  \n",
      "5     C  \n",
      "6     E  \n",
      "7     D  \n",
      "8     D  \n",
      "9     F  \n",
      "10    E  \n",
      "11    E  \n",
      "12    S  \n",
      "13    D  \n",
      "14    C  \n",
      "15    C  \n",
      "16    S  \n",
      "17    A  \n",
      "18    A  \n",
      "19    C  \n",
      "20    C  \n",
      "21    E  \n",
      "22    A  \n",
      "23    E  \n",
      "24    B  \n"
     ]
    }
   ],
   "source": [
    "import pandas as pd\n",
    "d=pd.read_excel(\"/Users/student/Downloads/employee.xlsx\")\n",
    "print(d)"
   ]
  },
  {
   "cell_type": "code",
   "execution_count": 3,
   "id": "5ac6998a",
   "metadata": {},
   "outputs": [
    {
     "name": "stdout",
     "output_type": "stream",
     "text": [
      "(25, 9)\n"
     ]
    }
   ],
   "source": [
    "a=pd.DataFrame(d)\n",
    "print(a.shape)"
   ]
  },
  {
   "cell_type": "code",
   "execution_count": 6,
   "id": "ebc3c10a",
   "metadata": {},
   "outputs": [
    {
     "name": "stdout",
     "output_type": "stream",
     "text": [
      "columns: Index(['REG NO', 'NAME', 'AGE', 'GENDER', 'STARTING DATE', 'SALARY', 'BONUS',\n",
      "       'LAST LOGIN', 'TEAM'],\n",
      "      dtype='object')\n"
     ]
    }
   ],
   "source": [
    "a=pd.DataFrame(d)\n",
    "print(\"columns:\",a.columns)"
   ]
  },
  {
   "cell_type": "code",
   "execution_count": 15,
   "id": "14f65c81",
   "metadata": {},
   "outputs": [
    {
     "name": "stdout",
     "output_type": "stream",
     "text": [
      "REG NO\n",
      " 0     65865\n",
      "1     35598\n",
      "2     37165\n",
      "3     68121\n",
      "4     25542\n",
      "5     36725\n",
      "6     36823\n",
      "7     54893\n",
      "8     36412\n",
      "9     98135\n",
      "10    96145\n",
      "11    12546\n",
      "12    35549\n",
      "13    24016\n",
      "14    95324\n",
      "15    65423\n",
      "16    68523\n",
      "17    92333\n",
      "18    65542\n",
      "19    32256\n",
      "20    36552\n",
      "21    26578\n",
      "22    65498\n",
      "23    36563\n",
      "24    55963\n",
      "Name: REG NO, dtype: int64\n"
     ]
    }
   ],
   "source": [
    "print(\"REG NO\\n\",a['REG NO'])"
   ]
  },
  {
   "cell_type": "code",
   "execution_count": 13,
   "id": "3f13366c",
   "metadata": {},
   "outputs": [
    {
     "name": "stdout",
     "output_type": "stream",
     "text": [
      "   REG NO      NAME     AGE  GENDER STARTING DATE  SALARY  BONUS LAST LOGIN  \\\n",
      "1   35598  kalanjia  female      23    22.01.2020   23000  0.120   13:00:00   \n",
      "2   37165   karthic    male      25    15.12.2018   23000  0.096   10:30:00   \n",
      "3   68121       anu  female      22    23.05.2017   25000  0.150   11:09:00   \n",
      "\n",
      "  TEAM  \n",
      "1    D  \n",
      "2    A  \n",
      "3    B  \n"
     ]
    }
   ],
   "source": [
    "print(a[1:4])"
   ]
  },
  {
   "cell_type": "code",
   "execution_count": 17,
   "id": "afe98798",
   "metadata": {},
   "outputs": [
    {
     "name": "stdout",
     "output_type": "stream",
     "text": [
      "particular person details:\n",
      " REG NO                36823\n",
      "NAME                deepika\n",
      "AGE                  female\n",
      "GENDER                   22\n",
      "STARTING DATE    19.09.2013\n",
      "SALARY                32000\n",
      "BONUS                0.0625\n",
      "LAST LOGIN         10:30:00\n",
      "TEAM                      E\n",
      "Name: 6, dtype: object\n"
     ]
    }
   ],
   "source": [
    "print(\"particular person details:\\n\",a.loc[6])"
   ]
  },
  {
   "cell_type": "code",
   "execution_count": 16,
   "id": "7c37d253",
   "metadata": {},
   "outputs": [
    {
     "name": "stdout",
     "output_type": "stream",
     "text": [
      "0     False\n",
      "1      True\n",
      "2      True\n",
      "3     False\n",
      "4     False\n",
      "5     False\n",
      "6     False\n",
      "7     False\n",
      "8     False\n",
      "9     False\n",
      "10    False\n",
      "11    False\n",
      "12    False\n",
      "13    False\n",
      "14    False\n",
      "15    False\n",
      "16    False\n",
      "17    False\n",
      "18    False\n",
      "19    False\n",
      "20    False\n",
      "21    False\n",
      "22    False\n",
      "23    False\n",
      "24    False\n",
      "Name: SALARY, dtype: bool\n"
     ]
    }
   ],
   "source": [
    "print(a['SALARY']==23000)"
   ]
  },
  {
   "cell_type": "code",
   "execution_count": 18,
   "id": "37746db7",
   "metadata": {},
   "outputs": [
    {
     "name": "stdout",
     "output_type": "stream",
     "text": [
      "0     125.0\n",
      "1     115.0\n",
      "2     115.0\n",
      "3     125.0\n",
      "4     130.0\n",
      "5     150.0\n",
      "6     160.0\n",
      "7     135.0\n",
      "8     145.0\n",
      "9     127.5\n",
      "10    139.0\n",
      "11    130.0\n",
      "12    175.0\n",
      "13    160.5\n",
      "14    140.0\n",
      "15    150.0\n",
      "16    180.0\n",
      "17    175.0\n",
      "18    150.0\n",
      "19    160.0\n",
      "20    147.5\n",
      "21    130.0\n",
      "22    160.0\n",
      "23    160.0\n",
      "24    125.0\n",
      "Name: SALARY, dtype: float64\n"
     ]
    }
   ],
   "source": [
    "print(a['SALARY']/200)"
   ]
  }
 ],
 "metadata": {
  "kernelspec": {
   "display_name": "Python 3 (ipykernel)",
   "language": "python",
   "name": "python3"
  },
  "language_info": {
   "codemirror_mode": {
    "name": "ipython",
    "version": 3
   },
   "file_extension": ".py",
   "mimetype": "text/x-python",
   "name": "python",
   "nbconvert_exporter": "python",
   "pygments_lexer": "ipython3",
   "version": "3.11.5"
  }
 },
 "nbformat": 4,
 "nbformat_minor": 5
}
