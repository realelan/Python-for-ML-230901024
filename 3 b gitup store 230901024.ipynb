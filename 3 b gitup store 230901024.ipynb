{
  "nbformat": 4,
  "nbformat_minor": 0,
  "metadata": {
    "colab": {
      "provenance": []
    },
    "kernelspec": {
      "name": "python3",
      "display_name": "Python 3"
    },
    "language_info": {
      "name": "python"
    }
  },
  "cells": [
    {
      "cell_type": "code",
      "execution_count": null,
      "metadata": {
        "colab": {
          "base_uri": "https://localhost:8080/"
        },
        "id": "dBjwORBnLy_l",
        "outputId": "804b5024-d0eb-4ad9-c3fa-5edd6fcb0e21"
      },
      "outputs": [
        {
          "output_type": "stream",
          "name": "stdout",
          "text": [
            "       a  b  c\n",
            "one    1  2  3\n",
            "two    4  5  6\n",
            "three  7  8  9\n"
          ]
        }
      ],
      "source": [
        "df=pd.DataFrame([[1,2,3], [4,5,6], [7,8,9]])\n",
        "index=['one','two','three']\n",
        "columns=['a','b','c']\n",
        "df.index = index\n",
        "df.columns = columns\n",
        "print(df)\n",
        "df.to_excel(\"C:\\\\Users\\\\REC\\\\Desktop\\\\DH19.xlsx\")\n",
        "df.to_excel(\"C:\\\\Users\\\\REC\\\\Desktop\\\\EL24.xlsx\")"
      ]
    },
    {
      "cell_type": "code",
      "source": [
        "df=pd.DataFrame([[10,20,30],[40,50,60],[70,80,90]] , index=['four','five','six'], columns=['x','y','z'])\n",
        "df.to_excel(\"C:\\\\Users\\\\REC\\\\Desktop\\\\EL24.xlsx\", sheet_name = \"Marks\")\n",
        "print(df)"
      ],
      "metadata": {
        "colab": {
          "base_uri": "https://localhost:8080/"
        },
        "id": "RQrjES7GN7y6",
        "outputId": "6ad4e768-ac6d-421e-8b5e-0fadefe3dba8"
      },
      "execution_count": null,
      "outputs": [
        {
          "output_type": "stream",
          "name": "stdout",
          "text": [
            "       x   y   z\n",
            "four  10  20  30\n",
            "five  40  50  60\n",
            "six   70  80  90\n"
          ]
        }
      ]
    },
    {
      "cell_type": "code",
      "source": [
        "x=pd.read_excel(\"C:\\\\Users\\\\REC\\\\Desktop\\\\DH19.xlsx\")\n",
        "y=pd.read_excel(\"C:\\\\Users\\\\REC\\\\Desktop\\\\EL24.xlsx\")\n",
        "#z=x.merge(y)\n",
        "z=pd.concat([x,y])\n",
        "z.to_excel(\"C:\\\\Users\\\\REC\\\\Desktop\\\\concat.xlsx\")\n",
        "print(z)"
      ],
      "metadata": {
        "colab": {
          "base_uri": "https://localhost:8080/"
        },
        "id": "QW18BMMvVc7J",
        "outputId": "e630fea0-88c3-4a11-e59c-60ff5c35285c"
      },
      "execution_count": null,
      "outputs": [
        {
          "output_type": "stream",
          "name": "stdout",
          "text": [
            "  Unnamed: 0  a  b  c\n",
            "0        one  1  2  3\n",
            "1        two  4  5  6\n",
            "2      three  7  8  9\n",
            "0        one  1  2  3\n",
            "1        two  4  5  6\n",
            "2      three  7  8  9\n"
          ]
        }
      ]
    }
  ]
}
