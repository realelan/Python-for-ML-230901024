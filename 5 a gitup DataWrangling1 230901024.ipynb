{
  "nbformat": 4,
  "nbformat_minor": 0,
  "metadata": {
    "colab": {
      "provenance": []
    },
    "kernelspec": {
      "name": "python3",
      "display_name": "Python 3"
    },
    "language_info": {
      "name": "python"
    }
  },
  "cells": [
    {
      "cell_type": "code",
      "execution_count": 10,
      "metadata": {
        "colab": {
          "base_uri": "https://localhost:8080/"
        },
        "id": "3wTWJxC7YcOb",
        "outputId": "c605b36e-2c7c-4440-aaad-aa883db9c12b"
      },
      "outputs": [
        {
          "output_type": "stream",
          "name": "stdout",
          "text": [
            "  name  age\n",
            "0  sai   20\n",
            "1  sub   21\n",
            "2  poo   22\n"
          ]
        }
      ],
      "source": [
        "import pandas as pd\n",
        "d1={\"name\":[\"sai\",\"sub\",\"poo\"],\"age\":[20,21,22]}\n",
        "d2={\"qualified\":[True,False,True]}\n",
        "df1=pd.DataFrame(d1)\n",
        "print(df1)"
      ]
    },
    {
      "cell_type": "code",
      "source": [
        "df2=pd.DataFrame(d2)\n",
        "print(d2)\n",
        "newdf=df1.join (df2)\n",
        "print(newdf)"
      ],
      "metadata": {
        "colab": {
          "base_uri": "https://localhost:8080/"
        },
        "id": "ZHA_mAJzY_6_",
        "outputId": "32dccb45-2359-4bca-e102-ca6880f3c53c"
      },
      "execution_count": 11,
      "outputs": [
        {
          "output_type": "stream",
          "name": "stdout",
          "text": [
            "{'qualified': [True, False, True]}\n",
            "  name  age  qualified\n",
            "0  sai   20       True\n",
            "1  sub   21      False\n",
            "2  poo   22       True\n"
          ]
        }
      ]
    },
    {
      "cell_type": "code",
      "source": [
        "d1={\n",
        "    \"name\": [\"sai\",\"sri\",\"pavi\"], \"age\": [20,21,22]\n",
        "}\n",
        "d2={\n",
        "    \"name\": [\"yuvi\",\"rithika\",\"sanjay\"], \"age\": [23,21,22]\n",
        "}\n",
        "df1=pd.DataFrame(d1)\n",
        "df2=pd.DataFrame(d2)\n",
        "print(df1)"
      ],
      "metadata": {
        "colab": {
          "base_uri": "https://localhost:8080/"
        },
        "id": "MhqkwQ6Xa-Zh",
        "outputId": "dd0cae4d-2598-497d-b702-29c98a3d7428"
      },
      "execution_count": 33,
      "outputs": [
        {
          "output_type": "stream",
          "name": "stdout",
          "text": [
            "   name  age\n",
            "0   sai   20\n",
            "1   sri   21\n",
            "2  pavi   22\n"
          ]
        }
      ]
    },
    {
      "cell_type": "code",
      "source": [
        "newdf1=df2.merge(df1, on='age')\n",
        "print(newdf1)"
      ],
      "metadata": {
        "colab": {
          "base_uri": "https://localhost:8080/"
        },
        "id": "Jw8aD9ahctqw",
        "outputId": "e501f901-234c-4c4c-f3e4-7660cb195f47"
      },
      "execution_count": 34,
      "outputs": [
        {
          "output_type": "stream",
          "name": "stdout",
          "text": [
            "    name_x  age name_y\n",
            "0  rithika   21    sri\n",
            "1   sanjay   22   pavi\n"
          ]
        }
      ]
    },
    {
      "cell_type": "code",
      "source": [
        "#reshape\n",
        "df=pd.DataFrame({'team': ['A','B','C','D'], 'points': [90,56,78,88], 'assists': [12,34,23,44], 'rebounds': [56,43,55,12]})\n",
        "print(df)\n",
        "df=pd.melt(df,id_vars ='team', value_vars = ['points','assists','rebounds'])\n",
        "print(df)"
      ],
      "metadata": {
        "colab": {
          "base_uri": "https://localhost:8080/"
        },
        "id": "rOv7ZEn2eqI2",
        "outputId": "74401edc-4d9f-441f-b2c7-dbadffd500d4"
      },
      "execution_count": 38,
      "outputs": [
        {
          "output_type": "stream",
          "name": "stdout",
          "text": [
            "  team  points  assists  rebounds\n",
            "0    A      90       12        56\n",
            "1    B      56       34        43\n",
            "2    C      78       23        55\n",
            "3    D      88       44        12\n",
            "   team  variable  value\n",
            "0     A    points     90\n",
            "1     B    points     56\n",
            "2     C    points     78\n",
            "3     D    points     88\n",
            "4     A   assists     12\n",
            "5     B   assists     34\n",
            "6     C   assists     23\n",
            "7     D   assists     44\n",
            "8     A  rebounds     56\n",
            "9     B  rebounds     43\n",
            "10    C  rebounds     55\n",
            "11    D  rebounds     12\n"
          ]
        }
      ]
    }
  ]
}
