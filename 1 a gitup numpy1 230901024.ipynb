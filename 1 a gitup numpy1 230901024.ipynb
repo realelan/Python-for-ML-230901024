{
  "nbformat": 4,
  "nbformat_minor": 0,
  "metadata": {
    "colab": {
      "provenance": []
    },
    "kernelspec": {
      "name": "python3",
      "display_name": "Python 3"
    },
    "language_info": {
      "name": "python"
    }
  },
  "cells": [
    {
      "cell_type": "code",
      "execution_count": 45,
      "metadata": {
        "colab": {
          "base_uri": "https://localhost:8080/"
        },
        "id": "36wY0LVXB5G7",
        "outputId": "119eac9e-eeca-4a48-b498-4be10763824e"
      },
      "outputs": [
        {
          "output_type": "stream",
          "name": "stdout",
          "text": [
            "One dimensional array: [10 20 30]\n"
          ]
        }
      ],
      "source": [
        "import numpy as np\n",
        "a=np.array([10,20,30])\n",
        "print(\"One dimensional array:\",a)\n"
      ]
    },
    {
      "cell_type": "markdown",
      "source": [],
      "metadata": {
        "id": "Akf9TZc6B-P6"
      }
    },
    {
      "cell_type": "code",
      "source": [
        "import numpy as np\n",
        "b=np.array([[1,2,3],[4,5,6]])\n",
        "print(\"Two dimensional array:\",b)"
      ],
      "metadata": {
        "colab": {
          "base_uri": "https://localhost:8080/"
        },
        "id": "5bKVpTfhB-vb",
        "outputId": "f20e55c4-bd0f-4340-bdbf-13c8312f0c1b"
      },
      "execution_count": 46,
      "outputs": [
        {
          "output_type": "stream",
          "name": "stdout",
          "text": [
            "Two dimensional array: [[1 2 3]\n",
            " [4 5 6]]\n"
          ]
        }
      ]
    },
    {
      "cell_type": "code",
      "source": [
        "import numpy as np\n",
        "c=np.array([[1,2,3],[4,5,6],[7,8,9]])\n",
        "print(\"Three dimensional array:\",c)"
      ],
      "metadata": {
        "colab": {
          "base_uri": "https://localhost:8080/"
        },
        "id": "xNAbrke5CM8q",
        "outputId": "3d10e8a4-1a59-48f3-f8a6-ce3572cb417d"
      },
      "execution_count": 47,
      "outputs": [
        {
          "output_type": "stream",
          "name": "stdout",
          "text": [
            "Three dimensional array: [[1 2 3]\n",
            " [4 5 6]\n",
            " [7 8 9]]\n"
          ]
        }
      ]
    },
    {
      "cell_type": "code",
      "source": [
        "import numpy as np\n",
        "d=np.zeros((3,5))\n",
        "print(\"\\n array with all zereos\\n\",d)"
      ],
      "metadata": {
        "colab": {
          "base_uri": "https://localhost:8080/"
        },
        "id": "stGE9WIhCNEi",
        "outputId": "78e368a6-fe78-4f25-e2fe-b9af60184d6a"
      },
      "execution_count": 48,
      "outputs": [
        {
          "output_type": "stream",
          "name": "stdout",
          "text": [
            "\n",
            " array with all zereos\n",
            " [[0. 0. 0. 0. 0.]\n",
            " [0. 0. 0. 0. 0.]\n",
            " [0. 0. 0. 0. 0.]]\n"
          ]
        }
      ]
    },
    {
      "cell_type": "code",
      "source": [
        "import numpy as np\n",
        "e=np.random.random((3,2))\n",
        "print(\"\\nrandom value:\\n\",e)"
      ],
      "metadata": {
        "colab": {
          "base_uri": "https://localhost:8080/"
        },
        "id": "PuOQBNkvCNH6",
        "outputId": "1fef62d3-82de-45f4-da32-ca68660b1372"
      },
      "execution_count": 49,
      "outputs": [
        {
          "output_type": "stream",
          "name": "stdout",
          "text": [
            "\n",
            "random value:\n",
            " [[0.42703665 0.87403206]\n",
            " [0.58728088 0.80507774]\n",
            " [0.84669018 0.97148187]]\n"
          ]
        }
      ]
    },
    {
      "cell_type": "code",
      "source": [
        "import numpy as np\n",
        "f=np.arange(10,30,5)\n",
        "print(\"\\n sequence array :\\n\",f)\n"
      ],
      "metadata": {
        "colab": {
          "base_uri": "https://localhost:8080/"
        },
        "id": "XA-UJ-OgCNKq",
        "outputId": "7f27f916-6b50-4ece-ca2a-393c28b0aac0"
      },
      "execution_count": 50,
      "outputs": [
        {
          "output_type": "stream",
          "name": "stdout",
          "text": [
            "\n",
            " sequence array :\n",
            " [10 15 20 25]\n"
          ]
        }
      ]
    },
    {
      "cell_type": "code",
      "source": [
        "import numpy as np\n",
        "a=np.array([[1,2,3,4],[5,2,4,2],[1,2,0,1]])\n",
        "b=a.reshape(4,3)\n",
        "print(\"\\n old array :\\n\",a)\n",
        "print(\"\\n reshaped array:\\n\",b)"
      ],
      "metadata": {
        "colab": {
          "base_uri": "https://localhost:8080/"
        },
        "id": "JEqRD2gXCNNq",
        "outputId": "f20b5768-8ddd-4775-eaf7-49627d2b1bb4"
      },
      "execution_count": 51,
      "outputs": [
        {
          "output_type": "stream",
          "name": "stdout",
          "text": [
            "\n",
            " old array :\n",
            " [[1 2 3 4]\n",
            " [5 2 4 2]\n",
            " [1 2 0 1]]\n",
            "\n",
            " reshaped array:\n",
            " [[1 2 3]\n",
            " [4 5 2]\n",
            " [4 2 1]\n",
            " [2 0 1]]\n"
          ]
        }
      ]
    },
    {
      "cell_type": "code",
      "source": [
        "import numpy as np\n",
        "a=np.zeros((5,3))\n",
        "b=np.random.random((5,3))\n",
        "c=np.arange(0,10,2)\n",
        "arr=np.array([[1,2,3,4],[5,2,4,2],[1,2,0,1]])\n",
        "e=arr.reshape(6,2)\n",
        "print(\"Array with zeros:\",a)\n",
        "print(\"\\n Array with random values:\\n\",b)\n",
        "print(\"\\n Array in step:\\n\",c)\n",
        "print(\"\\n Old array: \\n\",arr)\n",
        "print(\"\\n Reshaped array:\\n\",e)"
      ],
      "metadata": {
        "colab": {
          "base_uri": "https://localhost:8080/"
        },
        "id": "HXeVxZ0NCY_C",
        "outputId": "6137aa74-5f60-4cd4-e248-d6831f05b564"
      },
      "execution_count": 52,
      "outputs": [
        {
          "output_type": "stream",
          "name": "stdout",
          "text": [
            "Array with zeros: [[0. 0. 0.]\n",
            " [0. 0. 0.]\n",
            " [0. 0. 0.]\n",
            " [0. 0. 0.]\n",
            " [0. 0. 0.]]\n",
            "\n",
            " Array with random values:\n",
            " [[0.36642561 0.38738942 0.87582925]\n",
            " [0.78252141 0.11858509 0.66486702]\n",
            " [0.34179244 0.94676971 0.44838936]\n",
            " [0.26974944 0.02184409 0.18951593]\n",
            " [0.87831494 0.04269683 0.04217289]]\n",
            "\n",
            " Array in step:\n",
            " [0 2 4 6 8]\n",
            "\n",
            " Old array: \n",
            " [[1 2 3 4]\n",
            " [5 2 4 2]\n",
            " [1 2 0 1]]\n",
            "\n",
            " Reshaped array:\n",
            " [[1 2]\n",
            " [3 4]\n",
            " [5 2]\n",
            " [4 2]\n",
            " [1 2]\n",
            " [0 1]]\n"
          ]
        }
      ]
    },
    {
      "cell_type": "code",
      "source": [
        "#flatten array\n",
        "import numpy as np\n",
        "flat=arr.flatten()\n",
        "print(\"Flattened array:\\n\",flat)"
      ],
      "metadata": {
        "colab": {
          "base_uri": "https://localhost:8080/"
        },
        "id": "rww9uIPCCZK6",
        "outputId": "24ada6f1-6465-40d2-813b-05edce33e9b4"
      },
      "execution_count": 53,
      "outputs": [
        {
          "output_type": "stream",
          "name": "stdout",
          "text": [
            "Flattened array:\n",
            " [1 2 3 4 5 2 4 2 1 2 0 1]\n"
          ]
        }
      ]
    },
    {
      "cell_type": "code",
      "source": [
        "#print type of element\n",
        "print(\"\\n Array element type\",arr.dtype)"
      ],
      "metadata": {
        "colab": {
          "base_uri": "https://localhost:8080/"
        },
        "id": "2yjX7YecCena",
        "outputId": "12c94bad-355a-434b-8d5b-c0c356de83d8"
      },
      "execution_count": 54,
      "outputs": [
        {
          "output_type": "stream",
          "name": "stdout",
          "text": [
            "\n",
            " Array element type int64\n"
          ]
        }
      ]
    },
    {
      "cell_type": "code",
      "source": [
        "#convert integer to float\n",
        "newtype = arr.astype('f')\n",
        "print(\"\\n convert array element: \\n\",newtype)\n",
        "print(\"converted array:\",newtype.dtype)"
      ],
      "metadata": {
        "colab": {
          "base_uri": "https://localhost:8080/"
        },
        "id": "S56WKDj2DMJC",
        "outputId": "2d45d4f1-66d9-49c6-c1e3-44d02561a6fe"
      },
      "execution_count": 55,
      "outputs": [
        {
          "output_type": "stream",
          "name": "stdout",
          "text": [
            "\n",
            " convert array element: \n",
            " [[1. 2. 3. 4.]\n",
            " [5. 2. 4. 2.]\n",
            " [1. 2. 0. 1.]]\n",
            "converted array: float32\n"
          ]
        }
      ]
    },
    {
      "cell_type": "code",
      "source": [
        "#Determine the size of the array\n",
        "size=len(arr)\n",
        "print(\"\\n size of array:\\n\",size)\n"
      ],
      "metadata": {
        "colab": {
          "base_uri": "https://localhost:8080/"
        },
        "id": "kqz_oWyJGQkK",
        "outputId": "2ee4b299-4597-47a7-a1a3-13e437d1ccb1"
      },
      "execution_count": 56,
      "outputs": [
        {
          "output_type": "stream",
          "name": "stdout",
          "text": [
            "\n",
            " size of array:\n",
            " 3\n"
          ]
        }
      ]
    },
    {
      "cell_type": "code",
      "source": [],
      "metadata": {
        "id": "sxZx0r-MGRB5"
      },
      "execution_count": 56,
      "outputs": []
    },
    {
      "cell_type": "code",
      "source": [],
      "metadata": {
        "id": "O9uU-otbGRKS"
      },
      "execution_count": 56,
      "outputs": []
    },
    {
      "cell_type": "code",
      "source": [],
      "metadata": {
        "id": "gsQdsdrjGRNk"
      },
      "execution_count": 56,
      "outputs": []
    },
    {
      "cell_type": "code",
      "source": [],
      "metadata": {
        "id": "SWIMPaPeGRRh"
      },
      "execution_count": 56,
      "outputs": []
    },
    {
      "cell_type": "code",
      "source": [],
      "metadata": {
        "id": "r5zvpSTOGRVa"
      },
      "execution_count": 56,
      "outputs": []
    }
  ]
}
