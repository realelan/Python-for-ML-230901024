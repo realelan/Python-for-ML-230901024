{
  "cells": [
    {
      "cell_type": "code",
      "execution_count": null,
      "id": "0bb6c54e",
      "metadata": {
        "id": "0bb6c54e",
        "outputId": "5270f059-dc60-4dec-8885-6f118f90526b"
      },
      "outputs": [
        {
          "name": "stdout",
          "output_type": "stream",
          "text": [
            "       A      B  C  D  E\n",
            "0    Sai    One  0  4  1\n",
            "1   Subu    Two  2  3  1\n",
            "2  Divya  Three  3  0  0\n",
            "3   Yuvi    One  2  4  4\n",
            "4  Rithi  Three  1  0  0\n",
            "5  Sangi    Two  3  2  2\n"
          ]
        }
      ],
      "source": [
        "import pandas as pd\n",
        "import numpy as np\n",
        "df=pd.DataFrame({'A':['Sai','Subu','Divya','Yuvi','Rithi','Sangi'],'B':['One','Two','Three','One','Three','Two'],\n",
        "                 'C':np.random.randint(5,size=6),'D':np.random.randint(5,size=6),'E':np.random.randint(5,size=6)})\n",
        "print(df)"
      ]
    },
    {
      "cell_type": "code",
      "execution_count": null,
      "id": "01f4502e",
      "metadata": {
        "id": "01f4502e",
        "outputId": "00402690-d5fe-4e63-fc0b-57b95d22c98e"
      },
      "outputs": [
        {
          "name": "stdout",
          "output_type": "stream",
          "text": [
            "       A      B  C  D  E\n",
            "0    Sai    One  2  3  1\n",
            "1    Poo    Two  2  1  4\n",
            "2    Sub  Three  3  1  2\n",
            "3   Yuvi    One  0  4  3\n",
            "4  Rithi  Three  3  0  3\n",
            "5  Sangu    Two  4  4  3\n",
            "6    Sai    One  0  4  3\n",
            "7    Poo    Two  4  2  2\n",
            "       A  C\n",
            "0    Poo  6\n",
            "1  Rithi  3\n",
            "2    Sai  2\n",
            "3  Sangu  4\n",
            "4    Sub  3\n",
            "5   Yuvi  0\n"
          ]
        }
      ],
      "source": [
        "import pandas as pd\n",
        "import numpy as np\n",
        "df=pd.DataFrame({'A':['Sai','Poo','Sub','Yuvi','Rithi','Sangu','Sai','Poo'],'B':['One','Two','Three','One','Three','Two','One','Two'],\n",
        "                 'C':np.random.randint(5,size=8),'D':np.random.randint(5,size=8),'E':np.random.randint(5,size=8)})\n",
        "print(df)\n",
        "df1=df.groupby(['A'],as_index=False)['C'].sum()\n",
        "print(df1)"
      ]
    },
    {
      "cell_type": "code",
      "execution_count": null,
      "id": "cb45c046",
      "metadata": {
        "id": "cb45c046",
        "outputId": "0fcda203-22e9-4875-a80e-07bee19ba20a"
      },
      "outputs": [
        {
          "name": "stdout",
          "output_type": "stream",
          "text": [
            "       A      B  C  D  E\n",
            "0    Sai    One  3  3  2\n",
            "1    Poo    Two  1  0  2\n",
            "2    Sub  Three  2  1  1\n",
            "3   Yuvi    One  4  3  4\n",
            "4  Rithi  Three  3  3  4\n",
            "5  Sangu    Two  0  1  0\n",
            "6    Sai    One  0  3  2\n",
            "7    Poo    Two  1  0  3\n",
            "       A      B  C  D\n",
            "0    Poo    Two  2  0\n",
            "1  Rithi  Three  3  3\n",
            "2    Sai    One  3  6\n",
            "3  Sangu    Two  0  1\n",
            "4    Sub  Three  2  1\n",
            "5   Yuvi    One  4  3\n"
          ]
        },
        {
          "name": "stderr",
          "output_type": "stream",
          "text": [
            "C:\\Users\\REC\\AppData\\Local\\Temp\\ipykernel_1692\\3643365678.py:6: FutureWarning: Indexing with multiple keys (implicitly converted to a tuple of keys) will be deprecated, use a list instead.\n",
            "  df1=df.groupby(['A','B'],as_index=False)['C','D'].sum()\n"
          ]
        }
      ],
      "source": [
        "import pandas as pd\n",
        "import numpy as np\n",
        "df=pd.DataFrame({'A':['Sai','Poo','Sub','Yuvi','Rithi','Sangu','Sai','Poo'],'B':['One','Two','Three','One','Three','Two','One','Two'],\n",
        "                 'C':np.random.randint(5,size=8),'D':np.random.randint(5,size=8),'E':np.random.randint(5,size=8)})\n",
        "print(df)\n",
        "df1=df.groupby(['A','B'],as_index=False)['C','D'].sum()\n",
        "print(df1)"
      ]
    },
    {
      "cell_type": "code",
      "execution_count": 1,
      "id": "09df63f4",
      "metadata": {
        "colab": {
          "base_uri": "https://localhost:8080/"
        },
        "id": "09df63f4",
        "outputId": "0e295f5d-97d3-4233-e044-70ca93d8d113"
      },
      "outputs": [
        {
          "output_type": "stream",
          "name": "stdout",
          "text": [
            "       A      B  C  D  E\n",
            "0    Sai    one  1  3  3\n",
            "1   Subu    two  2  4  1\n",
            "2  Divya  three  0  4  0\n",
            "3   Yuvi    one  4  1  4\n",
            "4  Rithi  three  2  3  1\n",
            "5  Sanju    two  3  0  2\n"
          ]
        }
      ],
      "source": [
        "import pandas as pd\n",
        "import numpy as np\n",
        "df=pd.DataFrame({'A':['Sai','Subu','Divya','Yuvi','Rithi','Sanju'],'B':['one','two','three','one','three','two'],'C':np.random.randint(5,size=6),'D':np.random.randint(5,size=6),'E':np.random.randint(5,size=6)})\n",
        "print(df)"
      ]
    },
    {
      "cell_type": "code",
      "source": [
        "import pandas as pd\n",
        "import numpy as np\n",
        "df=pd.DataFrame({'A':['Sai','Poo','Sub','Yuvi','Rithi','Sanju','Sai','Poo'],'B':['one','two','three','one','three','two','one','two'],'C':np.random.randint(5,size=8),'D':np.random.randint(5,size=8),'E':np.random.randint(5,size=8)})\n",
        "df1=df.groupby(['A','B'],as_index=False)[['C','D']].sum()\n",
        "print(df1)"
      ],
      "metadata": {
        "colab": {
          "base_uri": "https://localhost:8080/"
        },
        "id": "_7s7MZvTRgJd",
        "outputId": "f51825c3-5477-49ce-aad3-fa7695e30d7d"
      },
      "id": "_7s7MZvTRgJd",
      "execution_count": 2,
      "outputs": [
        {
          "output_type": "stream",
          "name": "stdout",
          "text": [
            "       A      B  C  D\n",
            "0    Poo    two  4  3\n",
            "1  Rithi  three  4  3\n",
            "2    Sai    one  2  1\n",
            "3  Sanju    two  2  0\n",
            "4    Sub  three  0  0\n",
            "5   Yuvi    one  3  1\n"
          ]
        }
      ]
    },
    {
      "cell_type": "code",
      "source": [
        "import pandas as pd\n",
        "import numpy as np\n",
        "df=pd.DataFrame({'category':['a','b','c','A','B','C'],'Sales':[100,200,150,150,130,200],'Profit':[10,15,20,25,30,15]})\n",
        "print(\"\\n Original daraframe:\\n\",df)"
      ],
      "metadata": {
        "colab": {
          "base_uri": "https://localhost:8080/"
        },
        "id": "gXWOqRr3RgMn",
        "outputId": "51713b6c-a206-48c9-d1a1-08f501765718"
      },
      "id": "gXWOqRr3RgMn",
      "execution_count": 3,
      "outputs": [
        {
          "output_type": "stream",
          "name": "stdout",
          "text": [
            "\n",
            " Original daraframe:\n",
            "   category  Sales  Profit\n",
            "0        a    100      10\n",
            "1        b    200      15\n",
            "2        c    150      20\n",
            "3        A    150      25\n",
            "4        B    130      30\n",
            "5        C    200      15\n"
          ]
        }
      ]
    },
    {
      "cell_type": "code",
      "source": [
        "df_grouped=df.groupby('category').agg({'Sales':['sum','mean'],'Profit':['sum','max']})\n",
        "print(df_grouped)"
      ],
      "metadata": {
        "colab": {
          "base_uri": "https://localhost:8080/"
        },
        "id": "_zX9_qtRRgU5",
        "outputId": "9a0a3ac0-d162-4062-c609-b757e7db85ca"
      },
      "id": "_zX9_qtRRgU5",
      "execution_count": 4,
      "outputs": [
        {
          "output_type": "stream",
          "name": "stdout",
          "text": [
            "         Sales        Profit    \n",
            "           sum   mean    sum max\n",
            "category                        \n",
            "A          150  150.0     25  25\n",
            "B          130  130.0     30  30\n",
            "C          200  200.0     15  15\n",
            "a          100  100.0     10  10\n",
            "b          200  200.0     15  15\n",
            "c          150  150.0     20  20\n"
          ]
        }
      ]
    }
  ],
  "metadata": {
    "kernelspec": {
      "display_name": "Python 3 (ipykernel)",
      "language": "python",
      "name": "python3"
    },
    "language_info": {
      "codemirror_mode": {
        "name": "ipython",
        "version": 3
      },
      "file_extension": ".py",
      "mimetype": "text/x-python",
      "name": "python",
      "nbconvert_exporter": "python",
      "pygments_lexer": "ipython3",
      "version": "3.11.3"
    },
    "colab": {
      "provenance": []
    }
  },
  "nbformat": 4,
  "nbformat_minor": 5
}