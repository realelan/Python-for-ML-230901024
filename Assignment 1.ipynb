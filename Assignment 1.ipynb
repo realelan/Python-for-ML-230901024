{
 "cells": [
  {
   "cell_type": "code",
   "execution_count": 1,
   "id": "3200ec37",
   "metadata": {},
   "outputs": [],
   "source": [
    "import numpy as np\n",
    "arr=np.array([1,2,3,4,5,6,7,8,9])"
   ]
  },
  {
   "cell_type": "code",
   "execution_count": 4,
   "id": "65a10175",
   "metadata": {},
   "outputs": [
    {
     "name": "stdout",
     "output_type": "stream",
     "text": [
      "Datatype of an array: int32\n"
     ]
    }
   ],
   "source": [
    "print(\"Datatype of an array:\",arr.dtype)"
   ]
  },
  {
   "cell_type": "code",
   "execution_count": 5,
   "id": "aea73ee5",
   "metadata": {},
   "outputs": [
    {
     "name": "stdout",
     "output_type": "stream",
     "text": [
      "Shape of an array: (9,)\n"
     ]
    }
   ],
   "source": [
    "print(\"Shape of an array:\",arr.shape)"
   ]
  },
  {
   "cell_type": "code",
   "execution_count": 6,
   "id": "36e68b5b",
   "metadata": {},
   "outputs": [
    {
     "name": "stdout",
     "output_type": "stream",
     "text": [
      "Size of an array: 9\n"
     ]
    }
   ],
   "source": [
    "print(\"Size of an array:\",arr.size)\n"
   ]
  },
  {
   "cell_type": "code",
   "execution_count": 8,
   "id": "e28a2a55",
   "metadata": {},
   "outputs": [
    {
     "name": "stdout",
     "output_type": "stream",
     "text": [
      "Reverse of an array; [9 8 7 6 5 4 3 2 1]\n"
     ]
    }
   ],
   "source": [
    "print(\"Reverse of an array;\",arr[::-1])"
   ]
  },
  {
   "cell_type": "code",
   "execution_count": 10,
   "id": "73a51578",
   "metadata": {},
   "outputs": [
    {
     "name": "stdout",
     "output_type": "stream",
     "text": [
      "Data greater than 7: [8 9]\n"
     ]
    }
   ],
   "source": [
    "print(\"Data greater than 7:\",arr[arr>7])"
   ]
  },
  {
   "cell_type": "code",
   "execution_count": 12,
   "id": "c410208e",
   "metadata": {},
   "outputs": [
    {
     "name": "stdout",
     "output_type": "stream",
     "text": [
      "slicing of an array: [1 3 5 7]\n"
     ]
    }
   ],
   "source": [
    "print(\"slicing of an array:\",arr[0:8:2])"
   ]
  },
  {
   "cell_type": "code",
   "execution_count": 13,
   "id": "c502498a",
   "metadata": {},
   "outputs": [
    {
     "name": "stdout",
     "output_type": "stream",
     "text": [
      "Length of an array: 9\n"
     ]
    }
   ],
   "source": [
    "print(\"Length of an array:\",len(arr))"
   ]
  },
  {
   "cell_type": "code",
   "execution_count": 15,
   "id": "4a9bc6e3",
   "metadata": {},
   "outputs": [],
   "source": [
    "import numpy as np\n",
    "brr=np.array([[3,1,7],[4,2,9],[10,6,2],[11,2,5]])"
   ]
  },
  {
   "cell_type": "code",
   "execution_count": 17,
   "id": "c925045b",
   "metadata": {},
   "outputs": [
    {
     "name": "stdout",
     "output_type": "stream",
     "text": [
      "Original array:\n",
      " [[ 3  1  7]\n",
      " [ 4  2  9]\n",
      " [10  6  2]\n",
      " [11  2  5]]\n",
      "Reshaped the array:\n",
      " [[ 3  1  7  4]\n",
      " [ 2  9 10  6]\n",
      " [ 2 11  2  5]]\n"
     ]
    }
   ],
   "source": [
    "print(\"Original array:\\n\",brr)\n",
    "print(\"Reshaped the array:\\n\",brr.reshape(3,4))"
   ]
  },
  {
   "cell_type": "code",
   "execution_count": 19,
   "id": "e838bbe2",
   "metadata": {},
   "outputs": [
    {
     "name": "stdout",
     "output_type": "stream",
     "text": [
      "Sorted array:\n",
      " [[ 1  3  7]\n",
      " [ 2  4  9]\n",
      " [ 2  6 10]\n",
      " [ 2  5 11]]\n"
     ]
    }
   ],
   "source": [
    "print(\"Sorted array:\\n\",np.sort(brr))"
   ]
  },
  {
   "cell_type": "code",
   "execution_count": 20,
   "id": "3fa38bc0",
   "metadata": {},
   "outputs": [
    {
     "name": "stdout",
     "output_type": "stream",
     "text": [
      "Original Array:\n",
      " [[ 3  1  7]\n",
      " [ 4  2  9]\n",
      " [10  6  2]\n",
      " [11  2  5]]\n",
      "Slicing Multidimensional array:\n",
      " [[1 7]\n",
      " [2 9]\n",
      " [6 2]]\n"
     ]
    }
   ],
   "source": [
    "print(\"Original Array:\\n\",brr)\n",
    "print(\"Slicing Multidimensional array:\\n\",brr[0:3,1:3])"
   ]
  },
  {
   "cell_type": "code",
   "execution_count": 21,
   "id": "30c0847a",
   "metadata": {},
   "outputs": [
    {
     "name": "stdout",
     "output_type": "stream",
     "text": [
      "Extract the row1:\n",
      " [3 1 7]\n"
     ]
    }
   ],
   "source": [
    "print(\"Extract the row1:\\n\",brr[0,:])"
   ]
  },
  {
   "cell_type": "code",
   "execution_count": 22,
   "id": "d6573adf",
   "metadata": {},
   "outputs": [
    {
     "name": "stdout",
     "output_type": "stream",
     "text": [
      "Extract the column 1: [ 3  4 10 11]\n"
     ]
    }
   ],
   "source": [
    "print(\"Extract the column 1:\",brr[:,0])"
   ]
  },
  {
   "cell_type": "code",
   "execution_count": null,
   "id": "28b38a60",
   "metadata": {},
   "outputs": [],
   "source": []
  }
 ],
 "metadata": {
  "kernelspec": {
   "display_name": "Python 3 (ipykernel)",
   "language": "python",
   "name": "python3"
  },
  "language_info": {
   "codemirror_mode": {
    "name": "ipython",
    "version": 3
   },
   "file_extension": ".py",
   "mimetype": "text/x-python",
   "name": "python",
   "nbconvert_exporter": "python",
   "pygments_lexer": "ipython3",
   "version": "3.11.5"
  }
 },
 "nbformat": 4,
 "nbformat_minor": 5
}
