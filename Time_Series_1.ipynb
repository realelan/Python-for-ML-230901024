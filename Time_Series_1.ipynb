{
  "nbformat": 4,
  "nbformat_minor": 0,
  "metadata": {
    "colab": {
      "provenance": []
    },
    "kernelspec": {
      "name": "python3",
      "display_name": "Python 3"
    },
    "language_info": {
      "name": "python"
    }
  },
  "cells": [
    {
      "cell_type": "code",
      "execution_count": 2,
      "metadata": {
        "colab": {
          "base_uri": "https://localhost:8080/"
        },
        "id": "elvlXeOzUFvf",
        "outputId": "a471c9dc-3c4c-4e7c-b4db-d29ca06f0255"
      },
      "outputs": [
        {
          "output_type": "stream",
          "name": "stdout",
          "text": [
            "today-now function: 2025-04-07 03:35:51.145572\n"
          ]
        }
      ],
      "source": [
        "import datetime\n",
        "a=datetime.datetime.now()\n",
        "print(\"today-now function:\",a)"
      ]
    },
    {
      "cell_type": "code",
      "source": [
        "today=datetime.datetime.today()\n",
        "print(\"\\ntoday: \",today)"
      ],
      "metadata": {
        "colab": {
          "base_uri": "https://localhost:8080/"
        },
        "id": "KGB0lfPEUJEB",
        "outputId": "27a42500-340b-488c-df37-9e956b562952"
      },
      "execution_count": 3,
      "outputs": [
        {
          "output_type": "stream",
          "name": "stdout",
          "text": [
            "\n",
            "today:  2025-04-07 03:36:39.874647\n"
          ]
        }
      ]
    },
    {
      "cell_type": "code",
      "source": [
        "tomorrow=today+datetime.timedelta(days=3)\n",
        "print(\"\\ntomorrow:\",tomorrow)"
      ],
      "metadata": {
        "colab": {
          "base_uri": "https://localhost:8080/"
        },
        "id": "OjK8uqzCUJGz",
        "outputId": "8aa33c75-b938-4153-99de-bf902a5e3b8f"
      },
      "execution_count": 4,
      "outputs": [
        {
          "output_type": "stream",
          "name": "stdout",
          "text": [
            "\n",
            "tomorrow: 2025-04-10 03:36:39.874647\n"
          ]
        }
      ]
    },
    {
      "cell_type": "code",
      "source": [
        "yesterday=today-datetime.timedelta(days=2)\n",
        "print(\"\\nyesterday:\",yesterday)"
      ],
      "metadata": {
        "colab": {
          "base_uri": "https://localhost:8080/"
        },
        "id": "lBBhQvMTUJJ7",
        "outputId": "322409e8-95a4-4064-833c-6f620b4cdcaf"
      },
      "execution_count": 5,
      "outputs": [
        {
          "output_type": "stream",
          "name": "stdout",
          "text": [
            "\n",
            "yesterday: 2025-04-05 03:36:39.874647\n"
          ]
        }
      ]
    },
    {
      "cell_type": "code",
      "source": [
        "a=datetime.datetime.now()\n",
        "b=datetime.datetime(2020,6,8,23,10,25,404040)\n",
        "print(\"\\ndate format [2020,6,8,23,10,25,404040): \",b)"
      ],
      "metadata": {
        "colab": {
          "base_uri": "https://localhost:8080/"
        },
        "id": "jBB5eP8rUJMi",
        "outputId": "5f5bebbf-69b0-41d0-e500-88065bb0b3cb"
      },
      "execution_count": 6,
      "outputs": [
        {
          "output_type": "stream",
          "name": "stdout",
          "text": [
            "\n",
            "date format [2020,6,8,23,10,25,404040):  2020-06-08 23:10:25.404040\n"
          ]
        }
      ]
    },
    {
      "cell_type": "code",
      "source": [
        "from datetime import date\n",
        "d=date(2024, 12, 31)\n",
        "print(\"\\nReplacing date\",d,d.replace(day=15))"
      ],
      "metadata": {
        "colab": {
          "base_uri": "https://localhost:8080/"
        },
        "id": "Yrb5PXvYUJPH",
        "outputId": "e2a1f834-5c24-4c94-ce3b-3f5218751fe9"
      },
      "execution_count": 7,
      "outputs": [
        {
          "output_type": "stream",
          "name": "stdout",
          "text": [
            "\n",
            "Replacing date 2024-12-31 2024-12-15\n"
          ]
        }
      ]
    },
    {
      "cell_type": "code",
      "source": [
        "t=date(2004,4,17)\n",
        "d=date(2004,4,17).ctime()\n",
        "print(\"\\nDay and Month:\",t,d)"
      ],
      "metadata": {
        "colab": {
          "base_uri": "https://localhost:8080/"
        },
        "id": "ofS_A66OUJRv",
        "outputId": "7ede4649-59a1-4ade-d404-6c0878242b1d"
      },
      "execution_count": 9,
      "outputs": [
        {
          "output_type": "stream",
          "name": "stdout",
          "text": [
            "\n",
            "Day and Month: 2004-04-17 Sat Apr 17 00:00:00 2004\n"
          ]
        }
      ]
    },
    {
      "cell_type": "code",
      "source": [
        "today=date.today()\n",
        "print(\"\\nToday:\",today)\n",
        "print(\"Current year:\", today.year)\n",
        "print(\"Current month:\", today.month)\n",
        "print(\"Current day:\",today.day)"
      ],
      "metadata": {
        "colab": {
          "base_uri": "https://localhost:8080/"
        },
        "id": "sTKYkvf5UJUW",
        "outputId": "428e5694-d523-4bfb-b75d-3d48c9ae29b4"
      },
      "execution_count": 10,
      "outputs": [
        {
          "output_type": "stream",
          "name": "stdout",
          "text": [
            "\n",
            "Today: 2025-04-07\n",
            "Current year: 2025\n",
            "Current month: 4\n",
            "Current day: 7\n"
          ]
        }
      ]
    }
  ]
}