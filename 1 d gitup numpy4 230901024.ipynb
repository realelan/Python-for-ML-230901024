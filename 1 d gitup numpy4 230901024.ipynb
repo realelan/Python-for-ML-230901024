{
  "nbformat": 4,
  "nbformat_minor": 0,
  "metadata": {
    "colab": {
      "provenance": []
    },
    "kernelspec": {
      "name": "python3",
      "display_name": "Python 3"
    },
    "language_info": {
      "name": "python"
    }
  },
  "cells": [
    {
      "cell_type": "code",
      "execution_count": 7,
      "metadata": {
        "colab": {
          "base_uri": "https://localhost:8080/"
        },
        "id": "UV4j_G0xJqD5",
        "outputId": "64085398-ea76-4127-ed27-6a9bc4576a58"
      },
      "outputs": [
        {
          "output_type": "stream",
          "name": "stdout",
          "text": [
            "[20 40 50 70 10]\n",
            "[6 2 9 7 1]\n",
            "[26 42 59 77 11]\n",
            "[14 38 41 63  9]\n",
            "[120  80 450 490  10]\n",
            "[ 3.33333333 20.          5.55555556 10.         10.        ]\n",
            "1150\n",
            "Result: [ 60 120 150 210  30]\n"
          ]
        }
      ],
      "source": [
        "import numpy as np\n",
        "arr1=[20,40,50,70,10]\n",
        "arr2=[6,2,9,7,1]\n",
        "a=np.array(arr1)\n",
        "b=np.array(arr2)\n",
        "print(a)\n",
        "print(b)\n",
        "print(a+b)\n",
        "print(a-b)\n",
        "print(a*b)\n",
        "print(a/b)\n",
        "print(a.dot(b))\n",
        "sclr=3\n",
        "print(\"Result:\",a*sclr)"
      ]
    },
    {
      "cell_type": "code",
      "source": [
        "import numpy as np\n",
        "a=np.array([[10,20],[30,40]])\n",
        "b=np.array([[3,7],[5,9]])\n",
        "print(a%b)"
      ],
      "metadata": {
        "colab": {
          "base_uri": "https://localhost:8080/"
        },
        "id": "Ck_GyDuEMKyD",
        "outputId": "df2a7734-de4a-4fde-b9bd-fe0eccf3f842"
      },
      "execution_count": 8,
      "outputs": [
        {
          "output_type": "stream",
          "name": "stdout",
          "text": [
            "[[1 6]\n",
            " [0 4]]\n"
          ]
        }
      ]
    },
    {
      "cell_type": "code",
      "source": [
        "def my_func(x,y):\n",
        "  if x>y:\n",
        "    return x-y\n",
        "  else:\n",
        "    return x+y\n",
        "arr1=[10,7,2]\n",
        "arr2=[6,5,3]\n",
        "vectfunc=np.vectorize(my_func)\n",
        "print(\"Array1:\",arr1)\n",
        "print(\"Array2:\",arr2)\n",
        "print(\"Result:\",vectfunc(arr1,arr2))"
      ],
      "metadata": {
        "colab": {
          "base_uri": "https://localhost:8080/"
        },
        "id": "ZLN9iTmPc3QU",
        "outputId": "104fc2ab-d859-456a-9966-3b87c2f20657"
      },
      "execution_count": 9,
      "outputs": [
        {
          "output_type": "stream",
          "name": "stdout",
          "text": [
            "Array1: [10, 7, 2]\n",
            "Array2: [6, 5, 3]\n",
            "Result: [4 2 5]\n"
          ]
        }
      ]
    }
  ]
}
