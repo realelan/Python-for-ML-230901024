{
  "nbformat": 4,
  "nbformat_minor": 0,
  "metadata": {
    "colab": {
      "provenance": []
    },
    "kernelspec": {
      "name": "python3",
      "display_name": "Python 3"
    },
    "language_info": {
      "name": "python"
    }
  },
  "cells": [
    {
      "cell_type": "code",
      "execution_count": 2,
      "metadata": {
        "colab": {
          "base_uri": "https://localhost:8080/"
        },
        "id": "pbuXb-a9vIJw",
        "outputId": "3ecfcdcf-0afd-493f-9cff-6650ace62d00"
      },
      "outputs": [
        {
          "output_type": "stream",
          "name": "stdout",
          "text": [
            "0    A\n",
            "1    B\n",
            "2    C\n",
            "3    D\n",
            "4    E\n",
            "5    F\n",
            "dtype: object\n"
          ]
        }
      ],
      "source": [
        "#Pandas Series\n",
        "import pandas as pd\n",
        "import numpy as np\n",
        "arr=np.array(['A','B','C','D','E','F'])\n",
        "a=pd.Series(arr)\n",
        "print(a)"
      ]
    },
    {
      "cell_type": "code",
      "source": [
        "arr={'a':0,'b':1,'c':2}\n",
        "b=pd.Series(arr)\n",
        "print(b)"
      ],
      "metadata": {
        "colab": {
          "base_uri": "https://localhost:8080/"
        },
        "id": "w84PT9brxSQO",
        "outputId": "d90a2a4a-e457-42c4-fa13-24e7f5c16b20"
      },
      "execution_count": 3,
      "outputs": [
        {
          "output_type": "stream",
          "name": "stdout",
          "text": [
            "a    0\n",
            "b    1\n",
            "c    2\n",
            "dtype: int64\n"
          ]
        }
      ]
    },
    {
      "cell_type": "code",
      "source": [
        "X=pd.Series(4,index=[0,1,2,3])\n",
        "print(X)\n",
        "arr=np.array(['s','a','i'])\n",
        "arr=pd.Series(arr)\n",
        "print(arr.values)\n",
        "print(arr.shape)\n",
        "print(arr.ndim)\n",
        "print(arr.size)\n",
        "print(arr.index)"
      ],
      "metadata": {
        "colab": {
          "base_uri": "https://localhost:8080/"
        },
        "id": "IQsc2eVvyHv7",
        "outputId": "fb9cabdd-e06f-4208-a159-859bfa278daf"
      },
      "execution_count": 16,
      "outputs": [
        {
          "output_type": "stream",
          "name": "stdout",
          "text": [
            "0    4\n",
            "1    4\n",
            "2    4\n",
            "3    4\n",
            "dtype: int64\n",
            "['s' 'a' 'i']\n",
            "(3,)\n",
            "1\n",
            "3\n",
            "RangeIndex(start=0, stop=3, step=1)\n"
          ]
        }
      ]
    },
    {
      "cell_type": "code",
      "source": [],
      "metadata": {
        "id": "di_Yu6LryWV9"
      },
      "execution_count": null,
      "outputs": []
    }
  ]
}
