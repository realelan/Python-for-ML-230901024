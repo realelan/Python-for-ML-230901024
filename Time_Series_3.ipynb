{
  "nbformat": 4,
  "nbformat_minor": 0,
  "metadata": {
    "colab": {
      "provenance": []
    },
    "kernelspec": {
      "name": "python3",
      "display_name": "Python 3"
    },
    "language_info": {
      "name": "python"
    }
  },
  "cells": [
    {
      "cell_type": "code",
      "execution_count": 1,
      "metadata": {
        "colab": {
          "base_uri": "https://localhost:8080/"
        },
        "id": "oB9JKHpwb_G2",
        "outputId": "8b11a3af-cdbc-4151-c520-4f9f77eece2a"
      },
      "outputs": [
        {
          "output_type": "stream",
          "name": "stdout",
          "text": [
            "Date Index \n",
            " 2011-01-02   -1.613135\n",
            "2011-01-05   -1.115552\n",
            "2011-01-07    2.194077\n",
            "2011-01-08    0.556596\n",
            "2011-01-10    0.944136\n",
            "2011-01-12    1.537915\n",
            "dtype: float64\n"
          ]
        }
      ],
      "source": [
        "import pandas as pd\n",
        "import numpy as np\n",
        "from datetime import datetime\n",
        "\n",
        "dates = [datetime(2011, 1, 2),\n",
        "datetime(2011, 1, 5),\n",
        "datetime(2011, 1, 7),\n",
        "datetime(2011, 1, 8),\n",
        "datetime(2011, 1, 10),\n",
        "datetime(2011, 1, 12)]\n",
        "\n",
        "ts = pd.Series(np.random.randn(6), index=dates)\n",
        "print(\"Date Index \\n\",ts)"
      ]
    },
    {
      "cell_type": "code",
      "source": [
        "print(\"\\nDate Index alone from the series: \\n\",ts.index)"
      ],
      "metadata": {
        "colab": {
          "base_uri": "https://localhost:8080/"
        },
        "id": "mmTCQexYcTVj",
        "outputId": "0520805a-e39f-4014-9c95-460e1cc0d52f"
      },
      "execution_count": 2,
      "outputs": [
        {
          "output_type": "stream",
          "name": "stdout",
          "text": [
            "\n",
            "Date Index alone from the series: \n",
            " DatetimeIndex(['2011-01-02', '2011-01-05', '2011-01-07', '2011-01-08',\n",
            "               '2011-01-10', '2011-01-12'],\n",
            "              dtype='datetime64[ns]', freq=None)\n"
          ]
        }
      ]
    },
    {
      "cell_type": "code",
      "source": [
        "stamp=ts.index[2]\n",
        "print(\"\\nSecond index:\\n\", stamp)"
      ],
      "metadata": {
        "colab": {
          "base_uri": "https://localhost:8080/"
        },
        "id": "ABsNhoQxcTYB",
        "outputId": "f6340474-f639-4554-9a45-bb05c3c70855"
      },
      "execution_count": 3,
      "outputs": [
        {
          "output_type": "stream",
          "name": "stdout",
          "text": [
            "\n",
            "Second index:\n",
            " 2011-01-07 00:00:00\n"
          ]
        }
      ]
    },
    {
      "cell_type": "code",
      "source": [
        "longer_ts=pd.Series(np.random.randn(1000),\n",
        "index=pd.date_range(\"2000-01-01\",periods=1000))\n",
        "print(\"\\nDaterange up to 1000 days:\\n\",longer_ts)"
      ],
      "metadata": {
        "colab": {
          "base_uri": "https://localhost:8080/"
        },
        "id": "EpUva0MRcTcw",
        "outputId": "7f0f3719-0b8c-4f58-c642-052d4793d18c"
      },
      "execution_count": 4,
      "outputs": [
        {
          "output_type": "stream",
          "name": "stdout",
          "text": [
            "\n",
            "Daterange up to 1000 days:\n",
            " 2000-01-01   -0.892912\n",
            "2000-01-02    1.214331\n",
            "2000-01-03   -0.479184\n",
            "2000-01-04   -0.213809\n",
            "2000-01-05   -1.601245\n",
            "                ...   \n",
            "2002-09-22   -0.915813\n",
            "2002-09-23    0.051681\n",
            "2002-09-24    0.799415\n",
            "2002-09-25    0.640220\n",
            "2002-09-26    0.119378\n",
            "Freq: D, Length: 1000, dtype: float64\n"
          ]
        }
      ]
    },
    {
      "cell_type": "code",
      "source": [
        "print(\"\\nDate range-2001 year:\\n\", longer_ts[\"2001\"])"
      ],
      "metadata": {
        "colab": {
          "base_uri": "https://localhost:8080/"
        },
        "id": "SB23hYQVcTfm",
        "outputId": "3dd5a7f8-f342-4c6a-9503-da3898446b83"
      },
      "execution_count": 6,
      "outputs": [
        {
          "output_type": "stream",
          "name": "stdout",
          "text": [
            "\n",
            "Date range-2001 year:\n",
            " 2001-01-01   -0.476337\n",
            "2001-01-02    0.113454\n",
            "2001-01-03   -0.290836\n",
            "2001-01-04    0.361486\n",
            "2001-01-05   -0.663577\n",
            "                ...   \n",
            "2001-12-27   -0.695813\n",
            "2001-12-28   -0.069870\n",
            "2001-12-29    0.731582\n",
            "2001-12-30    1.577473\n",
            "2001-12-31   -0.004950\n",
            "Freq: D, Length: 365, dtype: float64\n"
          ]
        }
      ]
    },
    {
      "cell_type": "code",
      "source": [
        "print(\"\\nDate range-05 month 2001 year:\\n\", longer_ts[\"2001-05\"])"
      ],
      "metadata": {
        "colab": {
          "base_uri": "https://localhost:8080/"
        },
        "id": "5R9U2XeUcTiM",
        "outputId": "86665f51-cc98-4355-f608-7cffd4ac0c71"
      },
      "execution_count": 7,
      "outputs": [
        {
          "output_type": "stream",
          "name": "stdout",
          "text": [
            "\n",
            "Date range-05 month 2001 year:\n",
            " 2001-05-01   -0.358905\n",
            "2001-05-02    1.602375\n",
            "2001-05-03    0.751817\n",
            "2001-05-04    0.643523\n",
            "2001-05-05   -1.241463\n",
            "2001-05-06   -0.796000\n",
            "2001-05-07   -0.927574\n",
            "2001-05-08    1.827382\n",
            "2001-05-09   -0.105914\n",
            "2001-05-10   -1.008810\n",
            "2001-05-11    1.361033\n",
            "2001-05-12    0.792615\n",
            "2001-05-13    0.212006\n",
            "2001-05-14    0.090449\n",
            "2001-05-15    0.376910\n",
            "2001-05-16   -0.301966\n",
            "2001-05-17   -0.779929\n",
            "2001-05-18   -1.704505\n",
            "2001-05-19    0.725094\n",
            "2001-05-20    0.470655\n",
            "2001-05-21   -0.976842\n",
            "2001-05-22    0.544982\n",
            "2001-05-23    0.034041\n",
            "2001-05-24   -0.758883\n",
            "2001-05-25    0.612203\n",
            "2001-05-26    1.135757\n",
            "2001-05-27    0.254522\n",
            "2001-05-28   -1.541332\n",
            "2001-05-29   -1.081154\n",
            "2001-05-30   -0.633637\n",
            "2001-05-31    2.672458\n",
            "Freq: D, dtype: float64\n"
          ]
        }
      ]
    },
    {
      "cell_type": "code",
      "source": [
        "print(\"\\nDate range-first few dates in 2000 year:\\n\",longer_ts[\"2000\"].head())"
      ],
      "metadata": {
        "colab": {
          "base_uri": "https://localhost:8080/"
        },
        "id": "Gs98GYVzcTki",
        "outputId": "60525f6a-f432-43e5-da61-dc93dab399b3"
      },
      "execution_count": 9,
      "outputs": [
        {
          "output_type": "stream",
          "name": "stdout",
          "text": [
            "\n",
            "Date range-first few dates in 2000 year:\n",
            " 2000-01-01   -0.892912\n",
            "2000-01-02    1.214331\n",
            "2000-01-03   -0.479184\n",
            "2000-01-04   -0.213809\n",
            "2000-01-05   -1.601245\n",
            "Freq: D, dtype: float64\n"
          ]
        }
      ]
    },
    {
      "cell_type": "code",
      "source": [
        "print(\"\\nDate range-first 15 dates in 02 month 2001 year:\\n\",longer_ts[\"2000-02\"].head(15))"
      ],
      "metadata": {
        "colab": {
          "base_uri": "https://localhost:8080/"
        },
        "id": "2c4APkKfduVt",
        "outputId": "0670656d-66e4-45f0-8503-faaf3d06f85f"
      },
      "execution_count": 8,
      "outputs": [
        {
          "output_type": "stream",
          "name": "stdout",
          "text": [
            "\n",
            "Date range-first 15 dates in 02 month 2001 year:\n",
            " 2000-02-01    1.978379\n",
            "2000-02-02    1.337348\n",
            "2000-02-03   -0.446178\n",
            "2000-02-04   -0.212517\n",
            "2000-02-05    0.088456\n",
            "2000-02-06    0.050851\n",
            "2000-02-07   -0.441248\n",
            "2000-02-08    0.604243\n",
            "2000-02-09    0.871913\n",
            "2000-02-10   -1.799958\n",
            "2000-02-11    2.005254\n",
            "2000-02-12    0.004091\n",
            "2000-02-13    0.367835\n",
            "2000-02-14    0.690879\n",
            "2000-02-15   -0.969132\n",
            "Freq: D, dtype: float64\n"
          ]
        }
      ]
    },
    {
      "cell_type": "code",
      "source": [
        "print(\"\\nDate range-rom 26-9-2001:\\n\",longer_ts[datetime(2000,9,26):])"
      ],
      "metadata": {
        "colab": {
          "base_uri": "https://localhost:8080/"
        },
        "id": "OgNNJk5BduYR",
        "outputId": "6991492b-8c87-49a4-ea92-5b853d000eaf"
      },
      "execution_count": 10,
      "outputs": [
        {
          "output_type": "stream",
          "name": "stdout",
          "text": [
            "\n",
            "Date range-rom 26-9-2001:\n",
            " 2000-09-26    0.137052\n",
            "2000-09-27    0.498949\n",
            "2000-09-28    1.066411\n",
            "2000-09-29   -0.714012\n",
            "2000-09-30   -0.028292\n",
            "                ...   \n",
            "2002-09-22   -0.915813\n",
            "2002-09-23    0.051681\n",
            "2002-09-24    0.799415\n",
            "2002-09-25    0.640220\n",
            "2002-09-26    0.119378\n",
            "Freq: D, Length: 731, dtype: float64\n"
          ]
        }
      ]
    },
    {
      "cell_type": "code",
      "source": [
        "print(\"\\n Date range from 26-9-2001 to 25-9-2002:\\n\",longer_ts[datetime(2001,9,26):datetime(2002,9,25)])"
      ],
      "metadata": {
        "colab": {
          "base_uri": "https://localhost:8080/"
        },
        "id": "QiSLu3V1ducu",
        "outputId": "90f1a539-6885-401f-eb40-45faff8e6538"
      },
      "execution_count": 14,
      "outputs": [
        {
          "output_type": "stream",
          "name": "stdout",
          "text": [
            "\n",
            " Date range from 26-9-2001 to 25-9-2002:\n",
            " 2001-09-26   -1.307174\n",
            "2001-09-27    1.599384\n",
            "2001-09-28    0.075718\n",
            "2001-09-29    0.441151\n",
            "2001-09-30    0.547262\n",
            "                ...   \n",
            "2002-09-21    1.052978\n",
            "2002-09-22   -0.915813\n",
            "2002-09-23    0.051681\n",
            "2002-09-24    0.799415\n",
            "2002-09-25    0.640220\n",
            "Freq: D, Length: 365, dtype: float64\n"
          ]
        }
      ]
    },
    {
      "cell_type": "code",
      "source": [],
      "metadata": {
        "id": "ro3iTjmtdufC"
      },
      "execution_count": null,
      "outputs": []
    },
    {
      "cell_type": "code",
      "source": [],
      "metadata": {
        "id": "E3dcZyUwduhY"
      },
      "execution_count": null,
      "outputs": []
    },
    {
      "cell_type": "code",
      "source": [],
      "metadata": {
        "id": "kydQIWAvduqh"
      },
      "execution_count": null,
      "outputs": []
    }
  ]
}