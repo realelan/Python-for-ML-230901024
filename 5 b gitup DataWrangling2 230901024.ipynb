{
  "nbformat": 4,
  "nbformat_minor": 0,
  "metadata": {
    "colab": {
      "provenance": []
    },
    "kernelspec": {
      "name": "python3",
      "display_name": "Python 3"
    },
    "language_info": {
      "name": "python"
    }
  },
  "cells": [
    {
      "cell_type": "code",
      "execution_count": null,
      "metadata": {
        "colab": {
          "base_uri": "https://localhost:8080/"
        },
        "id": "sXAKVYdu0JHj",
        "outputId": "a3b3266f-e60f-47d5-80e8-0bf36a41f7f1"
      },
      "outputs": [
        {
          "output_type": "stream",
          "name": "stdout",
          "text": [
            "Original DataFrame:\n",
            "           Name  Age Gender Marks\n",
            "0          Sai   20      M    90\n",
            "1      Yuvasri   18      F    76\n",
            "2    Poovannan   19      M   NaN\n",
            "3    Sabharish   20      M    74\n",
            "4  Sangamithra   18      F    65\n",
            "5      Rithika   17      F   NaN\n",
            "6      Rubasri   19      F    71\n",
            "\n",
            "Replacing NaN with average marks:\n",
            "           Name  Age Gender  Marks\n",
            "0          Sai   20      M   90.0\n",
            "1      Yuvasri   18      F   76.0\n",
            "2    Poovannan   19      M   75.2\n",
            "3    Sabharish   20      M   74.0\n",
            "4  Sangamithra   18      F   65.0\n",
            "5      Rithika   17      F   75.2\n",
            "6      Rubasri   19      F   71.0\n"
          ]
        },
        {
          "output_type": "stream",
          "name": "stderr",
          "text": [
            "<ipython-input-2-22d1ac993868>:20: FutureWarning: Downcasting behavior in `replace` is deprecated and will be removed in a future version. To retain the old behavior, explicitly call `result.infer_objects(copy=False)`. To opt-in to the future behavior, set `pd.set_option('future.no_silent_downcasting', True)`\n",
            "  df=df.replace(to_replace=\"NaN\",value=avg)\n"
          ]
        }
      ],
      "source": [
        "import pandas as pd\n",
        "#Assign data\n",
        "data={'Name':['Sai','Yuvasri','Poovannan',\n",
        "'Sabharish','Sangamithra','Rithika','Rubasri'],\n",
        "'Age':[20,18,19,20,18,17,19],\n",
        "'Gender':['M','F','M','M','F','F','F'],\n",
        "'Marks':[90,76,'NaN',74,65,'NaN',71]}\n",
        "#convert into datafram\n",
        "df=pd.DataFrame(data)\n",
        "#display data\n",
        "print(\"Original DataFrame:\\n\",df)\n",
        "#convert average\n",
        "c=avg=0\n",
        "for ele in df['Marks']:\n",
        "  if str(ele).isnumeric():\n",
        "      c+=1\n",
        "      avg+=ele\n",
        "avg/=c\n",
        "#Replace missing values\n",
        "df=df.replace(to_replace=\"NaN\",value=avg)\n",
        "#Display data\n",
        "print(\"\\nReplacing NaN with average marks:\\n\",df)"
      ]
    },
    {
      "cell_type": "code",
      "source": [
        "#Filter top scoring students\n",
        "df=df[df['Marks']>=75]\n",
        "\n",
        "#Remove age row\n",
        "df=df.drop(['Age'],axis=1)\n",
        "\n",
        "#Display data\n",
        "print(\"\\nFiltering and Dropping func:\\n\",df)"
      ],
      "metadata": {
        "colab": {
          "base_uri": "https://localhost:8080/"
        },
        "id": "wH2gUoXo1cJ4",
        "outputId": "6cf1c359-8451-4882-ce9a-07485d212bc4"
      },
      "execution_count": null,
      "outputs": [
        {
          "output_type": "stream",
          "name": "stdout",
          "text": [
            "\n",
            "Filtering and Dropping func:\n",
            "         Name Gender  Marks\n",
            "0        Sai      M   90.0\n",
            "1    Yuvasri      F   76.0\n",
            "2  Poovannan      M   75.2\n",
            "5    Rithika      F   75.2\n"
          ]
        }
      ]
    },
    {
      "cell_type": "code",
      "source": [
        "one = pd.DataFrame({\n",
        "  'Name':['Sai','Sub','Poo','Yuvasri','Rithika'],\n",
        "  'subject_id':['sub1','sub2','sub4','sub6','sub5'],\n",
        "  'Marks_scored':[98,95,96,92,88]},\n",
        "  index=[1,2,3,4,5])\n",
        "two=pd.DataFrame({\n",
        "  'Name':['Sanjay','Sangamithra','Rubasri','Nikesh','Somanath'],\n",
        "  'subject_id':['sub2','sub4','sub3','sub6','sub5'],\n",
        "  'Marks_scored':[86,95,87,99,91]},\n",
        "  index=[1,2,3,4,5])\n",
        "print(\"\\nOriginal DataFrame 1:\\n\",one)\n",
        "print(\"\\nOriginal DataFrame 2:\\n\",two)\n",
        "print(pd.concat([one,two]))"
      ],
      "metadata": {
        "colab": {
          "base_uri": "https://localhost:8080/"
        },
        "id": "oJ9QPZPa1d18",
        "outputId": "c76ec37c-9bca-4c31-ccd7-4e4692c76d35"
      },
      "execution_count": null,
      "outputs": [
        {
          "output_type": "stream",
          "name": "stdout",
          "text": [
            "\n",
            "Original DataFrame 1:\n",
            "       Name subject_id  Marks_scored\n",
            "1      Sai       sub1            98\n",
            "2      Sub       sub2            95\n",
            "3      Poo       sub4            96\n",
            "4  Yuvasri       sub6            92\n",
            "5  Rithika       sub5            88\n",
            "\n",
            "Original DataFrame 2:\n",
            "           Name subject_id  Marks_scored\n",
            "1       Sanjay       sub2            86\n",
            "2  Sangamithra       sub4            95\n",
            "3      Rubasri       sub3            87\n",
            "4       Nikesh       sub6            99\n",
            "5     Somanath       sub5            91\n",
            "          Name subject_id  Marks_scored\n",
            "1          Sai       sub1            98\n",
            "2          Sub       sub2            95\n",
            "3          Poo       sub4            96\n",
            "4      Yuvasri       sub6            92\n",
            "5      Rithika       sub5            88\n",
            "1       Sanjay       sub2            86\n",
            "2  Sangamithra       sub4            95\n",
            "3      Rubasri       sub3            87\n",
            "4       Nikesh       sub6            99\n",
            "5     Somanath       sub5            91\n"
          ]
        }
      ]
    },
    {
      "cell_type": "code",
      "source": [],
      "metadata": {
        "id": "STnVPNjc1d8c"
      },
      "execution_count": null,
      "outputs": []
    },
    {
      "cell_type": "code",
      "source": [],
      "metadata": {
        "id": "oyIquEkg1eFA"
      },
      "execution_count": null,
      "outputs": []
    }
  ]
}
