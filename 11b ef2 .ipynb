{
  "nbformat": 4,
  "nbformat_minor": 0,
  "metadata": {
    "colab": {
      "provenance": []
    },
    "kernelspec": {
      "name": "python3",
      "display_name": "Python 3"
    },
    "language_info": {
      "name": "python"
    }
  },
  "cells": [
    {
      "cell_type": "code",
      "source": [
        "import pandas as pd\n",
        "import numpy as np\n",
        "df = pd.DataFrame({'Height': [150.4, 157.6, 170, 176, 164.2, 155, 159.2, 175, 162.4, 176, 153, 170.9]})\n",
        "print(\"Before:\")\n",
        "print(df)\n",
        "df['Label'] = pd.cut(x=df['Height'], bins=[150, 157, 169, 180], labels=['Short', 'Average', 'Tall'])\n",
        "print(\"\\nAfter:\")\n",
        "print(df)"
      ],
      "metadata": {
        "id": "RNX1ibzC0-AC",
        "outputId": "6da94c13-957e-486e-8fc0-d8a482e717f8",
        "colab": {
          "base_uri": "https://localhost:8080/"
        }
      },
      "execution_count": 29,
      "outputs": [
        {
          "output_type": "stream",
          "name": "stdout",
          "text": [
            "Before:\n",
            "    Height\n",
            "0    150.4\n",
            "1    157.6\n",
            "2    170.0\n",
            "3    176.0\n",
            "4    164.2\n",
            "5    155.0\n",
            "6    159.2\n",
            "7    175.0\n",
            "8    162.4\n",
            "9    176.0\n",
            "10   153.0\n",
            "11   170.9\n",
            "\n",
            "After:\n",
            "    Height    Label\n",
            "0    150.4    Short\n",
            "1    157.6  Average\n",
            "2    170.0     Tall\n",
            "3    176.0     Tall\n",
            "4    164.2  Average\n",
            "5    155.0    Short\n",
            "6    159.2  Average\n",
            "7    175.0     Tall\n",
            "8    162.4  Average\n",
            "9    176.0     Tall\n",
            "10   153.0    Short\n",
            "11   170.9     Tall\n"
          ]
        }
      ]
    }
  ]
}
