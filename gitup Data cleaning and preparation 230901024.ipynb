{
  "nbformat": 4,
  "nbformat_minor": 0,
  "metadata": {
    "colab": {
      "provenance": []
    },
    "kernelspec": {
      "name": "python3",
      "display_name": "Python 3"
    },
    "language_info": {
      "name": "python"
    }
  },
  "cells": [
    {
      "cell_type": "code",
      "source": [
        "import pandas as pd\n",
        "import numpy as np\n",
        "df=pd.DataFrame(np.random.randn(4,3),index=['a','c','d','f'],columns=['one','two','three'])\n",
        "df=df.reindex(['a','b','c','d','e','f'])\n",
        "print(df)\n"
      ],
      "metadata": {
        "colab": {
          "base_uri": "https://localhost:8080/"
        },
        "id": "8QaTf2-bqdWz",
        "outputId": "ddb8d843-88bc-4cd9-9fe5-a032415fc0c4"
      },
      "execution_count": null,
      "outputs": [
        {
          "output_type": "stream",
          "name": "stdout",
          "text": [
            "        one       two     three\n",
            "a  0.195826 -1.514414  0.743621\n",
            "b       NaN       NaN       NaN\n",
            "c -1.349278  0.986786 -0.237063\n",
            "d  1.743136 -1.945903 -0.248339\n",
            "e       NaN       NaN       NaN\n",
            "f  0.347511  1.046038 -0.678292\n"
          ]
        }
      ]
    },
    {
      "cell_type": "code",
      "execution_count": null,
      "metadata": {
        "colab": {
          "base_uri": "https://localhost:8080/"
        },
        "id": "LupXPRMYolck",
        "outputId": "c3154f5a-109b-4b14-983d-d07f9a109274"
      },
      "outputs": [
        {
          "output_type": "stream",
          "name": "stdout",
          "text": [
            "        one       two     three\n",
            "a  0.195826 -1.514414  0.743621\n",
            "c -1.349278  0.986786 -0.237063\n",
            "d  1.743136 -1.945903 -0.248339\n",
            "f  0.347511  1.046038 -0.678292\n",
            "\n"
          ]
        }
      ],
      "source": [
        "print(df.dropna())\n",
        "print()"
      ]
    },
    {
      "cell_type": "code",
      "source": [
        "df=df.reindex(['a','b','c'])\n",
        "print(df)"
      ],
      "metadata": {
        "colab": {
          "base_uri": "https://localhost:8080/"
        },
        "id": "sFz_IyAtuu-k",
        "outputId": "5f1dec85-c979-434a-fd20-e34c666fb98c"
      },
      "execution_count": null,
      "outputs": [
        {
          "output_type": "stream",
          "name": "stdout",
          "text": [
            "        one       two     three\n",
            "a  0.195826 -1.514414  0.743621\n",
            "b       NaN       NaN       NaN\n",
            "c -1.349278  0.986786 -0.237063\n"
          ]
        }
      ]
    },
    {
      "cell_type": "code",
      "source": [
        "df=df.fillna(0)\n",
        "print(df)"
      ],
      "metadata": {
        "colab": {
          "base_uri": "https://localhost:8080/"
        },
        "id": "-ujGx5gZuvId",
        "outputId": "75bb6929-0375-4ab7-fbe1-8068d1c9d05f"
      },
      "execution_count": null,
      "outputs": [
        {
          "output_type": "stream",
          "name": "stdout",
          "text": [
            "        one       two     three\n",
            "a  0.195826 -1.514414  0.743621\n",
            "b  0.000000  0.000000  0.000000\n",
            "c -1.349278  0.986786 -0.237063\n"
          ]
        }
      ]
    },
    {
      "cell_type": "code",
      "source": [
        "df=pd.DataFrame({'one':[10,20,30,40,50],'two':[60,70,80,0,10]})\n",
        "print(df)"
      ],
      "metadata": {
        "colab": {
          "base_uri": "https://localhost:8080/"
        },
        "id": "nelcnWlZx1EH",
        "outputId": "e9bbd4b6-64c0-4a85-a05a-a2b2b9c8c5f9"
      },
      "execution_count": null,
      "outputs": [
        {
          "output_type": "stream",
          "name": "stdout",
          "text": [
            "   one  two\n",
            "0   10   60\n",
            "1   20   70\n",
            "2   30   80\n",
            "3   40    0\n",
            "4   50   10\n"
          ]
        }
      ]
    },
    {
      "cell_type": "code",
      "source": [
        "df=pd.DataFrame(np.random.randn(4,3),index=['a','c','d','f'],columns=['one','two','three'])\n",
        "df=df.reindex(['a','b','c','d','e','f'])\n",
        "print(\"Original DataFrame:\\n\",df)\n",
        "print(\"\\n Nan-With True fill:\\n\")\n",
        "print(df['one'].isnull())"
      ],
      "metadata": {
        "colab": {
          "base_uri": "https://localhost:8080/"
        },
        "id": "eamgtm_Jx1Mb",
        "outputId": "5b8fde08-10b5-4841-fcf7-12e625ce4a1f"
      },
      "execution_count": null,
      "outputs": [
        {
          "output_type": "stream",
          "name": "stdout",
          "text": [
            "Original DataFrame:\n",
            "         one       two     three\n",
            "a  1.277663  2.452311 -0.102153\n",
            "b       NaN       NaN       NaN\n",
            "c -1.655527 -0.994206  1.011902\n",
            "d  0.108721  0.197519  1.529351\n",
            "e       NaN       NaN       NaN\n",
            "f -0.406033  2.121118  0.205043\n",
            "\n",
            " Nan-With True fill:\n",
            "\n",
            "a    False\n",
            "b     True\n",
            "c    False\n",
            "d    False\n",
            "e     True\n",
            "f    False\n",
            "Name: one, dtype: bool\n"
          ]
        }
      ]
    },
    {
      "cell_type": "code",
      "source": [
        "f=pd.DataFrame(np.random.randn(4,3),index=['a','c','d','f'],columns=['one','two','three'])\n",
        "df=df.reindex(['a','b','c','d','e','f'])\n",
        "print(\"Original DataFrame:\\n\",df)\n",
        "print(\"\\n Nan-With Background fill:\\n\")\n",
        "print(df.fillna(method='bfill'))"
      ],
      "metadata": {
        "colab": {
          "base_uri": "https://localhost:8080/"
        },
        "id": "ENjj7Bl22jL1",
        "outputId": "771fe5bb-efbc-4cb0-e0be-dcdf13c87a44"
      },
      "execution_count": null,
      "outputs": [
        {
          "output_type": "stream",
          "name": "stdout",
          "text": [
            "Original DataFrame:\n",
            "         one       two     three\n",
            "a  1.277663  2.452311 -0.102153\n",
            "b       NaN       NaN       NaN\n",
            "c -1.655527 -0.994206  1.011902\n",
            "d  0.108721  0.197519  1.529351\n",
            "e       NaN       NaN       NaN\n",
            "f -0.406033  2.121118  0.205043\n",
            "\n",
            " Nan-With Background fill:\n",
            "\n",
            "        one       two     three\n",
            "a  1.277663  2.452311 -0.102153\n",
            "b -1.655527 -0.994206  1.011902\n",
            "c -1.655527 -0.994206  1.011902\n",
            "d  0.108721  0.197519  1.529351\n",
            "e -0.406033  2.121118  0.205043\n",
            "f -0.406033  2.121118  0.205043\n"
          ]
        },
        {
          "output_type": "stream",
          "name": "stderr",
          "text": [
            "<ipython-input-15-a289034cd2d1>:5: FutureWarning: DataFrame.fillna with 'method' is deprecated and will raise in a future version. Use obj.ffill() or obj.bfill() instead.\n",
            "  print(df.fillna(method='bfill'))\n"
          ]
        }
      ]
    }
  ]
}
