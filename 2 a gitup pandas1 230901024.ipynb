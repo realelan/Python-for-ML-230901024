{
  "nbformat": 4,
  "nbformat_minor": 0,
  "metadata": {
    "colab": {
      "provenance": []
    },
    "kernelspec": {
      "name": "python3",
      "display_name": "Python 3"
    },
    "language_info": {
      "name": "python"
    }
  },
  "cells": [
    {
      "cell_type": "code",
      "source": [
        "import pandas as pd\n",
        "\n",
        "emp = pd.Series(['Dharshan','Sudeep','Siva','Yash','Keerthana'])\n",
        "id = pd.Series([80,90,28,57,49])\n",
        "\n",
        "\n",
        "frame = {'EMP': emp, 'ID': id}\n",
        "result = pd.DataFrame(frame)\n",
        "\n",
        "print(result)\n",
        "print(\"\\n Extracting One column:\\n\")\n",
        "print(result['EMP'])\n",
        "print(\"\\n Adding new columns:\\n\")\n",
        "result['ID'] = pd.Series([80, 90, 28, 56, 70])\n",
        "result['Age'] = pd.Series([28, 32, 47, 52, 61])\n",
        "print(result)"
      ],
      "metadata": {
        "colab": {
          "base_uri": "https://localhost:8080/"
        },
        "id": "7uDPKQCAmm56",
        "outputId": "11abc310-bcc6-4e7f-a928-4dc041c57168"
      },
      "execution_count": null,
      "outputs": [
        {
          "output_type": "stream",
          "name": "stdout",
          "text": [
            "         EMP  ID\n",
            "0   Dharshan  80\n",
            "1     Sudeep  90\n",
            "2       Siva  28\n",
            "3       Yash  57\n",
            "4  Keerthana  49\n",
            "\n",
            " Extracting One column:\n",
            "\n",
            "0     Dharshan\n",
            "1       Sudeep\n",
            "2         Siva\n",
            "3         Yash\n",
            "4    Keerthana\n",
            "Name: EMP, dtype: object\n",
            "\n",
            " Adding new columns:\n",
            "\n",
            "         EMP  ID  Age\n",
            "0   Dharshan  80   28\n",
            "1     Sudeep  90   32\n",
            "2       Siva  28   47\n",
            "3       Yash  56   52\n",
            "4  Keerthana  70   61\n"
          ]
        }
      ]
    },
    {
      "cell_type": "code",
      "source": [
        "print(\"\\n Deleting new column: \\n\")\n",
        "del result['Age']\n",
        "print(result)"
      ],
      "metadata": {
        "colab": {
          "base_uri": "https://localhost:8080/"
        },
        "id": "1cUdtWSUrrfJ",
        "outputId": "14c1fcbd-8688-4d26-d011-f4fc47da033b"
      },
      "execution_count": null,
      "outputs": [
        {
          "output_type": "stream",
          "name": "stdout",
          "text": [
            "\n",
            " Deleting new column: \n",
            "\n",
            "         EMP  ID\n",
            "0   Dharshan  80\n",
            "1     Sudeep  90\n",
            "2       Siva  28\n",
            "3       Yash  56\n",
            "4  Keerthana  70\n"
          ]
        }
      ]
    },
    {
      "cell_type": "code",
      "source": [
        "print(\"\\n Extracting the second row: \\n\")\n",
        "print(result.iloc[1])\n",
        "print(\"slice rows:\\n\", result[1:4] )"
      ],
      "metadata": {
        "colab": {
          "base_uri": "https://localhost:8080/"
        },
        "id": "aKlEhGpEopb2",
        "outputId": "80da531e-8d6a-4b33-d970-0339fff71354"
      },
      "execution_count": null,
      "outputs": [
        {
          "output_type": "stream",
          "name": "stdout",
          "text": [
            "\n",
            " Extracting the second row: \n",
            "\n",
            "EMP    Sudeep\n",
            "ID         90\n",
            "Name: 1, dtype: object\n",
            "slice rows:\n",
            "       EMP  ID\n",
            "1  Sudeep  90\n",
            "2    Siva  28\n",
            "3    Yash  56\n"
          ]
        }
      ]
    },
    {
      "cell_type": "code",
      "source": [
        "d2 = pd.DataFrame([['Vicky', 100], ['Rashid', 110]], columns=['Emp', 'ID'])\n",
        "print(\"\\n Adding new row values:\\n\", pd.concat([result, d2], ignore_index=True))"
      ],
      "metadata": {
        "colab": {
          "base_uri": "https://localhost:8080/"
        },
        "id": "Aub1_HDeuCG5",
        "outputId": "3636700f-4305-461a-cd58-f89f4d89985a"
      },
      "execution_count": null,
      "outputs": [
        {
          "output_type": "stream",
          "name": "stdout",
          "text": [
            "\n",
            " Adding new row values:\n",
            "          EMP   ID     Emp\n",
            "0   Dharshan   80     NaN\n",
            "1     Sudeep   90     NaN\n",
            "2       Siva   28     NaN\n",
            "3       Yash   56     NaN\n",
            "4  Keerthana   70     NaN\n",
            "5        NaN  100   Vicky\n",
            "6        NaN  110  Rashid\n"
          ]
        }
      ]
    },
    {
      "cell_type": "code",
      "source": [
        "print(\"\\n Deleting particular row:\\n\",result.drop(2))"
      ],
      "metadata": {
        "colab": {
          "base_uri": "https://localhost:8080/"
        },
        "id": "680gmtuZvCFu",
        "outputId": "20d3d886-170f-4cf2-c82b-91ce4488f24c"
      },
      "execution_count": null,
      "outputs": [
        {
          "output_type": "stream",
          "name": "stdout",
          "text": [
            "\n",
            " Deleting particular row:\n",
            "          EMP  ID\n",
            "0   Dharshan  80\n",
            "1     Sudeep  90\n",
            "3       Yash  56\n",
            "4  Keerthana  70\n"
          ]
        }
      ]
    }
  ]
}
